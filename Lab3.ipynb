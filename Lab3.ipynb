{
  "nbformat": 4,
  "nbformat_minor": 0,
  "metadata": {
    "colab": {
      "provenance": [],
      "collapsed_sections": [],
      "toc_visible": true,
      "include_colab_link": true
    },
    "kernelspec": {
      "name": "python3",
      "display_name": "Python 3"
    },
    "language_info": {
      "name": "python"
    },
    "accelerator": "GPU"
  },
  "cells": [
    {
      "cell_type": "markdown",
      "metadata": {
        "id": "view-in-github",
        "colab_type": "text"
      },
      "source": [
        "<a href=\"https://colab.research.google.com/github/artemkavara/Deep-Learning-KPI/blob/main/Lab3.ipynb\" target=\"_parent\"><img src=\"https://colab.research.google.com/assets/colab-badge.svg\" alt=\"Open In Colab\"/></a>"
      ]
    },
    {
      "cell_type": "markdown",
      "metadata": {
        "id": "yKYSArbuOn5U"
      },
      "source": [
        "# Лабораторна робота №3\n",
        "\n",
        "Кавара Артем, КА-81"
      ]
    },
    {
      "cell_type": "markdown",
      "metadata": {
        "id": "omzvIgd7Oxr8"
      },
      "source": [
        "## Імпорти, поділ на тренувальну та тестувальну вибірку, зменшення кількості класів для тренування"
      ]
    },
    {
      "cell_type": "markdown",
      "metadata": {
        "id": "vrXGYfh_QI1i"
      },
      "source": [
        "### Імпорти"
      ]
    },
    {
      "cell_type": "code",
      "metadata": {
        "id": "Vjmp12qCObf-"
      },
      "source": [
        "import os\n",
        "import tarfile\n",
        "import shutil\n",
        "import random"
      ],
      "execution_count": null,
      "outputs": []
    },
    {
      "cell_type": "code",
      "metadata": {
        "id": "H-awIoW1pxiN"
      },
      "source": [
        "import tensorflow as tf\n",
        "import numpy as np"
      ],
      "execution_count": null,
      "outputs": []
    },
    {
      "cell_type": "code",
      "metadata": {
        "id": "RgVA8YjdLcIw"
      },
      "source": [
        "import pandas as pd"
      ],
      "execution_count": null,
      "outputs": []
    },
    {
      "cell_type": "code",
      "metadata": {
        "id": "ia11hXZXo9NQ"
      },
      "source": [
        "from tensorflow.keras.preprocessing.image import img_to_array\n",
        "from tensorflow.keras.preprocessing.image import load_img"
      ],
      "execution_count": null,
      "outputs": []
    },
    {
      "cell_type": "code",
      "metadata": {
        "id": "yHrk9xMYmYVs"
      },
      "source": [
        "from tensorflow.keras import Sequential\n",
        "from tensorflow.keras import layers\n",
        "from tensorflow.keras import regularizers,constraints"
      ],
      "execution_count": null,
      "outputs": []
    },
    {
      "cell_type": "code",
      "metadata": {
        "id": "Ff3tGgLPuI1E"
      },
      "source": [
        "from tqdm import tqdm"
      ],
      "execution_count": null,
      "outputs": []
    },
    {
      "cell_type": "code",
      "metadata": {
        "id": "EZ3UOBJiybx1"
      },
      "source": [
        "import matplotlib.pyplot as plt\n",
        "import seaborn as sns\n",
        "plt.style.use('seaborn-whitegrid')"
      ],
      "execution_count": null,
      "outputs": []
    },
    {
      "cell_type": "markdown",
      "metadata": {
        "id": "wjFGb81zQQRL"
      },
      "source": [
        "### Завантаження файлів"
      ]
    },
    {
      "cell_type": "code",
      "metadata": {
        "id": "t5meDp2xqSR2"
      },
      "source": [
        "tar_source = \"/content/drive/MyDrive/kkanji.tar\"\n",
        "tar_ref = tarfile.TarFile(tar_source, 'r')\n",
        "tar_ref.extractall('/tmp')\n",
        "tar_ref.close()"
      ],
      "execution_count": null,
      "outputs": []
    },
    {
      "cell_type": "code",
      "metadata": {
        "id": "XAJStVMhrjk-"
      },
      "source": [
        "image_source = \"/tmp/kkanji2\"\n",
        "image_classes = os.listdir(image_source)"
      ],
      "execution_count": null,
      "outputs": []
    },
    {
      "cell_type": "code",
      "metadata": {
        "id": "t-dwPKWYOuRm"
      },
      "source": [
        "with open(\"/content/drive/MyDrive/clusters.txt\", \"r\") as f:\n",
        "  clusters_final = f.readline()"
      ],
      "execution_count": null,
      "outputs": []
    },
    {
      "cell_type": "code",
      "metadata": {
        "id": "cgNu-1W8QEXD"
      },
      "source": [
        "clusters_final = eval(clusters_final)"
      ],
      "execution_count": null,
      "outputs": []
    },
    {
      "cell_type": "code",
      "metadata": {
        "id": "Gjp2bqprhcsk"
      },
      "source": [
        "clusters_final"
      ],
      "execution_count": null,
      "outputs": []
    },
    {
      "cell_type": "markdown",
      "metadata": {
        "id": "PWMwy7cUQj9y"
      },
      "source": [
        "### Створення відповідних директорій"
      ]
    },
    {
      "cell_type": "code",
      "metadata": {
        "id": "zcSUMDUDQqb7"
      },
      "source": [
        "os.mkdir(\"/tmp/new_kkanji\")\n",
        "\n",
        "for i in range(50):\n",
        "  os.mkdir(f\"/tmp/new_kkanji/{i}\")\n",
        "\n",
        "for cl in clusters_final.keys():\n",
        "  source_dir = image_source+\"/\"+cl\n",
        "  for file in os.listdir(source_dir):\n",
        "    shutil.copyfile(source_dir+\"/\"+file, f\"/tmp/new_kkanji/{clusters_final[cl]}/{file}\")"
      ],
      "execution_count": null,
      "outputs": []
    },
    {
      "cell_type": "markdown",
      "metadata": {
        "id": "aMDiQcDhS8dM"
      },
      "source": [
        "### Поділ на тренувальну та тестову вибірки"
      ]
    },
    {
      "cell_type": "code",
      "metadata": {
        "colab": {
          "base_uri": "https://localhost:8080/",
          "height": 36
        },
        "id": "uLHLnUM-xlW0",
        "outputId": "4e6cd1eb-3faf-4f14-b621-10012ecd6bd1"
      },
      "source": [
        "'''shutil.rmtree('/tmp/train_50')\n",
        "shutil.rmtree('/tmp/test_50')\n",
        "shutil.rmtree('/tmp/valid_50')'''"
      ],
      "execution_count": null,
      "outputs": [
        {
          "output_type": "execute_result",
          "data": {
            "application/vnd.google.colaboratory.intrinsic+json": {
              "type": "string"
            },
            "text/plain": [
              "\"shutil.rmtree('/tmp/train_50')\\nshutil.rmtree('/tmp/test_50')\\nshutil.rmtree('/tmp/valid_50')\""
            ]
          },
          "metadata": {
            "tags": []
          },
          "execution_count": 15
        }
      ]
    },
    {
      "cell_type": "code",
      "metadata": {
        "id": "xoZMqvvbRNsk"
      },
      "source": [
        "if not os.path.isdir(\"/tmp/train_50\"):\n",
        "     os.mkdir(\"/tmp/train_50\")\n",
        "if not os.path.isdir(\"/tmp/test_50\"):\n",
        "     os.mkdir(\"/tmp/test_50\")\n",
        "if not os.path.isdir(\"/tmp/valid_50\"):\n",
        "     os.mkdir(\"/tmp/valid_50\")"
      ],
      "execution_count": null,
      "outputs": []
    },
    {
      "cell_type": "code",
      "metadata": {
        "id": "qRGxbE5-Q027"
      },
      "source": [
        "for folder in os.listdir(\"/tmp/new_kkanji\"):\n",
        "\n",
        "  dir = \"/tmp/new_kkanji\"+\"/\"+folder\n",
        "  sample = os.listdir(dir)\n",
        "  sample = np.array(sample)\n",
        "  np.random.shuffle(sample)\n",
        "  train_sample, valid_sample, test_sample = np.split(sample, [int(0.7*len(sample)), int(0.9*len(sample))])\n",
        "  \n",
        "  os.mkdir(f\"/tmp/train_50/{folder}\")\n",
        "  os.mkdir(f\"/tmp/valid_50/{folder}\")\n",
        "  os.mkdir(f\"/tmp/test_50/{folder}\")\n",
        "\n",
        "  for (i, train) in enumerate(train_sample):\n",
        "      \n",
        "      shutil.copyfile(dir+\"/\"+train, f\"/tmp/train_50/{folder}/{train}\")\n",
        "      os.rename(f\"/tmp/train_50/{folder}/{train}\", \n",
        "                f\"/tmp/train_50/{folder}/{folder}_{i}.png\")\n",
        "\n",
        "\n",
        "  for (j, valid) in enumerate(valid_sample):\n",
        "\n",
        "      shutil.copyfile(dir+\"/\"+valid, f\"/tmp/valid_50/{folder}/{valid}\")\n",
        "      os.rename(f\"/tmp/valid_50/{folder}/{valid}\", \n",
        "                f\"/tmp/valid_50/{folder}/{folder}_{j}.png\")\n",
        "      \n",
        "  for (k, test) in enumerate(test_sample):\n",
        "    \n",
        "      shutil.copyfile(dir+\"/\"+test, f\"/tmp/test_50/{folder}/{test}\")\n",
        "      os.rename(f\"/tmp/test_50/{folder}/{test}\", \n",
        "                f\"/tmp/test_50/{folder}/{folder}_{k}.png\")\n",
        "      "
      ],
      "execution_count": null,
      "outputs": []
    },
    {
      "cell_type": "markdown",
      "metadata": {
        "id": "rl8EyBuTSzrK"
      },
      "source": [
        "## Побудова власної згорткової мережі на меншій кількості вихідних класів"
      ]
    },
    {
      "cell_type": "markdown",
      "metadata": {
        "id": "y0ymkxFCnGhx"
      },
      "source": [
        "### Генерація поділу на валідаційну та тренувальну вибірки"
      ]
    },
    {
      "cell_type": "code",
      "metadata": {
        "id": "RJbyVcS90Nyh"
      },
      "source": [
        "datagen = tf.keras.preprocessing.image.ImageDataGenerator(rescale = 1/255)"
      ],
      "execution_count": null,
      "outputs": []
    },
    {
      "cell_type": "code",
      "metadata": {
        "id": "RwXV5z48klOU"
      },
      "source": [
        "def generate_train_valid_test(data_dir, batch_size, image_size = 64, i = \"50\", color = \"grayscale\"):\n",
        "  train_data = datagen.flow_from_directory(\n",
        "      data_dir+\"/train\" + i,\n",
        "      (image_size, image_size),\n",
        "      color,\n",
        "      batch_size = batch_size,\n",
        "  )\n",
        "\n",
        "  valid_data = datagen.flow_from_directory(\n",
        "      data_dir+\"/valid\" + i,\n",
        "      (image_size, image_size),\n",
        "      color,\n",
        "      batch_size = batch_size,\n",
        "  )\n",
        "\n",
        "  test_data = datagen.flow_from_directory(\n",
        "      data_dir+\"/test\" + i,\n",
        "      (image_size, image_size),\n",
        "      color,\n",
        "      batch_size = batch_size,\n",
        "  )\n",
        "  return train_data, valid_data, test_data"
      ],
      "execution_count": null,
      "outputs": []
    },
    {
      "cell_type": "code",
      "metadata": {
        "colab": {
          "base_uri": "https://localhost:8080/"
        },
        "id": "zpu66CQWksQm",
        "outputId": "e04949e5-0259-4f2c-e87a-fc847f41775f"
      },
      "source": [
        "train_data, valid_data, test_data = generate_train_valid_test(\"/tmp\", 64)"
      ],
      "execution_count": null,
      "outputs": [
        {
          "output_type": "stream",
          "text": [
            "Found 98277 images belonging to 50 classes.\n",
            "Found 28081 images belonging to 50 classes.\n",
            "Found 14066 images belonging to 50 classes.\n"
          ],
          "name": "stdout"
        }
      ]
    },
    {
      "cell_type": "markdown",
      "metadata": {
        "id": "SHBNd_x36D22"
      },
      "source": [
        "### Візуалізація"
      ]
    },
    {
      "cell_type": "code",
      "metadata": {
        "id": "bY45MekN6j0-"
      },
      "source": [
        "callback = tf.keras.callbacks.EarlyStopping(monitor='val_loss', patience=3)"
      ],
      "execution_count": null,
      "outputs": []
    },
    {
      "cell_type": "code",
      "metadata": {
        "id": "IqqJwAOP6Djn"
      },
      "source": [
        "def plot_res(history):\n",
        "  acc = history.history['accuracy']\n",
        "  val_acc = history.history['val_accuracy']\n",
        "\n",
        "  loss = history.history['loss']\n",
        "  val_loss = history.history['val_loss']\n",
        "\n",
        "  epochs = range(len(acc))\n",
        "\n",
        "  plt.plot(epochs, acc, label = \"Train\")\n",
        "  plt.plot(epochs, val_acc, label = \"Validation\")\n",
        "  plt.title('Training and validation accuracy')\n",
        "\n",
        "  plt.figure()\n",
        "\n",
        "  plt.plot(epochs, loss, label = \"Train\")\n",
        "  plt.plot(epochs, val_loss, label = \"Validation\")\n",
        "  plt.title('Training and validation loss')\n",
        "  plt.legend()"
      ],
      "execution_count": null,
      "outputs": []
    },
    {
      "cell_type": "markdown",
      "metadata": {
        "id": "ZVaHBB04nPOJ"
      },
      "source": [
        "### Проста модель"
      ]
    },
    {
      "cell_type": "code",
      "metadata": {
        "id": "-9tFG8ZLnYdB"
      },
      "source": [
        "model_1 = tf.keras.Sequential([\n",
        "  layers.Conv2D (32 , (3 , 3) , padding ='same', activation ='relu',\n",
        "  input_shape =(64, 64, 1)),\n",
        "  layers.MaxPooling2D ( pool_size =(2 , 2)),\n",
        "  layers.Flatten(),\n",
        "  layers.Dense(50, activation ='softmax')\n",
        "])\n",
        "\n",
        "model_1.compile(\n",
        "  optimizer= tf.optimizers.Adam(),  \n",
        "  loss=\"categorical_crossentropy\",\n",
        "  metrics=['accuracy'])"
      ],
      "execution_count": null,
      "outputs": []
    },
    {
      "cell_type": "code",
      "metadata": {
        "colab": {
          "base_uri": "https://localhost:8080/"
        },
        "id": "WAEBfD4snV_i",
        "outputId": "f9c29a2f-ca62-492e-cfde-b1ebc08683a6"
      },
      "source": [
        "with tf.device('/device:GPU:0'):\n",
        "  history_1 = model_1.fit(\n",
        "    train_data,\n",
        "    validation_data=valid_data,\n",
        "    epochs=10\n",
        "  )"
      ],
      "execution_count": null,
      "outputs": [
        {
          "output_type": "stream",
          "text": [
            "Epoch 1/10\n",
            "1536/1536 [==============================] - 53s 34ms/step - loss: 2.0516 - accuracy: 0.4677 - val_loss: 1.5578 - val_accuracy: 0.5811\n",
            "Epoch 2/10\n",
            "1536/1536 [==============================] - 51s 33ms/step - loss: 1.2504 - accuracy: 0.6593 - val_loss: 1.5460 - val_accuracy: 0.5882\n",
            "Epoch 3/10\n",
            "1536/1536 [==============================] - 50s 33ms/step - loss: 0.9852 - accuracy: 0.7280 - val_loss: 1.5988 - val_accuracy: 0.5847\n",
            "Epoch 4/10\n",
            "1536/1536 [==============================] - 50s 33ms/step - loss: 0.7684 - accuracy: 0.7877 - val_loss: 1.7113 - val_accuracy: 0.5747\n",
            "Epoch 5/10\n",
            "1536/1536 [==============================] - 50s 33ms/step - loss: 0.5714 - accuracy: 0.8440 - val_loss: 1.8681 - val_accuracy: 0.5655\n",
            "Epoch 6/10\n",
            "1536/1536 [==============================] - 50s 33ms/step - loss: 0.4130 - accuracy: 0.8892 - val_loss: 2.0786 - val_accuracy: 0.5603\n",
            "Epoch 7/10\n",
            "1536/1536 [==============================] - 50s 33ms/step - loss: 0.2869 - accuracy: 0.9259 - val_loss: 2.2966 - val_accuracy: 0.5527\n",
            "Epoch 8/10\n",
            "1536/1536 [==============================] - 50s 33ms/step - loss: 0.1993 - accuracy: 0.9503 - val_loss: 2.5832 - val_accuracy: 0.5498\n",
            "Epoch 9/10\n",
            "1536/1536 [==============================] - 50s 33ms/step - loss: 0.1445 - accuracy: 0.9657 - val_loss: 2.8083 - val_accuracy: 0.5459\n",
            "Epoch 10/10\n",
            "1536/1536 [==============================] - 50s 33ms/step - loss: 0.1045 - accuracy: 0.9756 - val_loss: 3.0373 - val_accuracy: 0.5422\n"
          ],
          "name": "stdout"
        }
      ]
    },
    {
      "cell_type": "code",
      "metadata": {
        "colab": {
          "base_uri": "https://localhost:8080/",
          "height": 537
        },
        "id": "mFC1mpcQ6LXg",
        "outputId": "32cb5eb0-e2db-44cb-db4c-edd4b7d84dbf"
      },
      "source": [
        "plot_res(history_1)"
      ],
      "execution_count": null,
      "outputs": [
        {
          "output_type": "display_data",
          "data": {
            "image/png": "[encoded data removed]",
            "text/plain": [
              "<Figure size 432x288 with 1 Axes>"
            ]
          },
          "metadata": {
            "tags": []
          }
        },
        {
          "output_type": "display_data",
          "data": {
            "image/png": "[encoded data removed]",
            "text/plain": [
              "<Figure size 432x288 with 1 Axes>"
            ]
          },
          "metadata": {
            "tags": []
          }
        }
      ]
    },
    {
      "cell_type": "markdown",
      "metadata": {
        "id": "_Qi265VQ4f04"
      },
      "source": [
        "### Вдосконалення моделі"
      ]
    },
    {
      "cell_type": "markdown",
      "metadata": {
        "id": "lXzjr0Ac7b7m"
      },
      "source": [
        "#### Додавання ще одного шару"
      ]
    },
    {
      "cell_type": "code",
      "metadata": {
        "id": "oVb1HM8i6VyH"
      },
      "source": [
        "model_2 = tf.keras.Sequential([\n",
        "  layers.BatchNormalization (input_shape =(64 , 64 , 1)),\n",
        "  layers.Conv2D (32 , (3 , 3) , padding ='same', activation ='relu'),\n",
        "  layers.Conv2D (32 , (3 , 3) , padding ='same', activation ='relu'),\n",
        "  layers.MaxPooling2D ( pool_size =(2 , 2)),\n",
        "  layers.Flatten(),\n",
        "  layers.Dense(50, activation ='softmax')\n",
        "])\n",
        "\n",
        "model_2.compile(\n",
        "  optimizer= tf.optimizers.Adam(),  \n",
        "  loss=\"categorical_crossentropy\",\n",
        "  metrics=['accuracy'],)"
      ],
      "execution_count": null,
      "outputs": []
    },
    {
      "cell_type": "code",
      "metadata": {
        "colab": {
          "base_uri": "https://localhost:8080/"
        },
        "id": "ZCqc8uBL7R92",
        "outputId": "0ed2a20b-9f2a-487b-aae9-9d6c485775e9"
      },
      "source": [
        "with tf.device('/device:GPU:0'):\n",
        "  history_2 = model_2.fit(\n",
        "    train_data,\n",
        "    validation_data=valid_data,\n",
        "    epochs=10,\n",
        "    callbacks = [callback]\n",
        "  )"
      ],
      "execution_count": null,
      "outputs": [
        {
          "output_type": "stream",
          "text": [
            "Epoch 1/10\n",
            "1536/1536 [==============================] - 60s 39ms/step - loss: 1.9340 - accuracy: 0.4973 - val_loss: 1.3809 - val_accuracy: 0.6266\n",
            "Epoch 2/10\n",
            "1536/1536 [==============================] - 58s 38ms/step - loss: 1.0329 - accuracy: 0.7175 - val_loss: 1.3818 - val_accuracy: 0.6333\n",
            "Epoch 3/10\n",
            "1536/1536 [==============================] - 58s 38ms/step - loss: 0.5458 - accuracy: 0.8467 - val_loss: 1.6497 - val_accuracy: 0.6127\n",
            "Epoch 4/10\n",
            "1536/1536 [==============================] - 58s 38ms/step - loss: 0.2018 - accuracy: 0.9414 - val_loss: 2.4143 - val_accuracy: 0.5904\n"
          ],
          "name": "stdout"
        }
      ]
    },
    {
      "cell_type": "code",
      "metadata": {
        "colab": {
          "base_uri": "https://localhost:8080/",
          "height": 537
        },
        "id": "dFpfRCZX7ii9",
        "outputId": "081181cb-5cf0-4e07-b6fb-909473678464"
      },
      "source": [
        "plot_res(history_2)"
      ],
      "execution_count": null,
      "outputs": [
        {
          "output_type": "display_data",
          "data": {
            "image/png": "[encoded data removed]",
            "text/plain": [
              "<Figure size 432x288 with 1 Axes>"
            ]
          },
          "metadata": {
            "tags": []
          }
        },
        {
          "output_type": "display_data",
          "data": {
            "image/png": "[encoded data removed]",
            "text/plain": [
              "<Figure size 432x288 with 1 Axes>"
            ]
          },
          "metadata": {
            "tags": []
          }
        }
      ]
    },
    {
      "cell_type": "markdown",
      "metadata": {
        "id": "IcmhOquO8gBl"
      },
      "source": [
        "#### Зміна параметрів"
      ]
    },
    {
      "cell_type": "code",
      "metadata": {
        "id": "rOkk1oa-8eyl"
      },
      "source": [
        "model_3 = tf.keras.Sequential([\n",
        "  layers.BatchNormalization (input_shape =(64 , 64 , 1)),\n",
        "  layers.Conv2D (16 , (3 , 3) , padding ='same', activation ='relu'),\n",
        "  layers.Conv2D (32 , (3 , 3) , padding ='same', activation ='relu'),\n",
        "  layers.MaxPooling2D ( pool_size =(2 , 2)),\n",
        "  layers.Dropout(0.25),\n",
        "  layers.Flatten(),\n",
        "  layers.Dense(50, activation ='softmax')\n",
        "])\n",
        "\n",
        "model_3.compile(\n",
        "  optimizer= tf.optimizers.Adam(0.0005),  \n",
        "  loss=\"categorical_crossentropy\",\n",
        "  metrics=['accuracy'],)"
      ],
      "execution_count": null,
      "outputs": []
    },
    {
      "cell_type": "code",
      "metadata": {
        "colab": {
          "base_uri": "https://localhost:8080/"
        },
        "id": "YnyvH3fK81ia",
        "outputId": "d78a10d1-465a-4d5f-f066-a216e4562909"
      },
      "source": [
        "with tf.device('/device:GPU:0'):\n",
        "  history_3 = model_3.fit(\n",
        "    train_data,\n",
        "    validation_data=valid_data,\n",
        "    epochs=10,\n",
        "    callbacks = [callback]\n",
        "  )"
      ],
      "execution_count": null,
      "outputs": [
        {
          "output_type": "stream",
          "text": [
            "Epoch 1/10\n",
            "1536/1536 [==============================] - 58s 37ms/step - loss: 2.0159 - accuracy: 0.4714 - val_loss: 1.4665 - val_accuracy: 0.6015\n",
            "Epoch 2/10\n",
            "1536/1536 [==============================] - 56s 36ms/step - loss: 1.2243 - accuracy: 0.6647 - val_loss: 1.4312 - val_accuracy: 0.6148\n",
            "Epoch 3/10\n",
            "1536/1536 [==============================] - 56s 36ms/step - loss: 0.9409 - accuracy: 0.7363 - val_loss: 1.4282 - val_accuracy: 0.6198\n",
            "Epoch 4/10\n",
            "1536/1536 [==============================] - 56s 37ms/step - loss: 0.6950 - accuracy: 0.8029 - val_loss: 1.5417 - val_accuracy: 0.6148\n",
            "Epoch 5/10\n",
            "1536/1536 [==============================] - 56s 37ms/step - loss: 0.4936 - accuracy: 0.8546 - val_loss: 1.7219 - val_accuracy: 0.5999\n",
            "Epoch 6/10\n",
            "1536/1536 [==============================] - 56s 37ms/step - loss: 0.3548 - accuracy: 0.8909 - val_loss: 1.9857 - val_accuracy: 0.5964\n"
          ],
          "name": "stdout"
        }
      ]
    },
    {
      "cell_type": "markdown",
      "metadata": {
        "id": "YH-WkDTz-OdN"
      },
      "source": [
        "#### Зміна параметрів v.2"
      ]
    },
    {
      "cell_type": "code",
      "metadata": {
        "id": "4uqxMwrC-SXE"
      },
      "source": [
        "model_4 = tf.keras.Sequential([\n",
        "  layers.BatchNormalization(input_shape =(64 , 64 , 1)),\n",
        "  layers.Conv2D (16 , (4 , 4) , padding ='same', activation ='relu'),\n",
        "  layers.Conv2D (32 , (4 , 4) , padding ='same', activation ='relu'),\n",
        "  layers.MaxPooling2D ( pool_size =(2 , 2)),\n",
        "  layers.Dropout(0.25),\n",
        "  layers.Conv2D (32 , (4 , 4) , padding ='same', activation ='relu'),\n",
        "  layers.MaxPooling2D ( pool_size =(2 , 2)),\n",
        "  layers.Dropout(0.25),\n",
        "  layers.Flatten(),\n",
        "  layers.Dense(50, activation ='softmax')\n",
        "])\n",
        "\n",
        "model_4.compile(\n",
        "  optimizer= tf.optimizers.Adagrad(),  \n",
        "  loss=\"categorical_crossentropy\",\n",
        "  metrics=['accuracy'],)"
      ],
      "execution_count": null,
      "outputs": []
    },
    {
      "cell_type": "code",
      "metadata": {
        "colab": {
          "base_uri": "https://localhost:8080/"
        },
        "id": "MF8_ddVo-j_8",
        "outputId": "974b784d-b353-449b-e32a-b775f4974d8d"
      },
      "source": [
        "with tf.device('/device:GPU:0'):\n",
        "  history_4 = model_4.fit(\n",
        "    train_data,\n",
        "    validation_data=valid_data,\n",
        "    epochs=10,\n",
        "    callbacks = [callback]\n",
        "  )"
      ],
      "execution_count": null,
      "outputs": [
        {
          "output_type": "stream",
          "text": [
            "Epoch 1/10\n",
            "1536/1536 [==============================] - 67s 43ms/step - loss: 3.1245 - accuracy: 0.2184 - val_loss: 2.1684 - val_accuracy: 0.4379\n",
            "Epoch 2/10\n",
            "1536/1536 [==============================] - 65s 42ms/step - loss: 2.2191 - accuracy: 0.4146 - val_loss: 2.0599 - val_accuracy: 0.4650\n",
            "Epoch 3/10\n",
            "1536/1536 [==============================] - 65s 42ms/step - loss: 2.1185 - accuracy: 0.4362 - val_loss: 2.0004 - val_accuracy: 0.4783\n",
            "Epoch 4/10\n",
            "1536/1536 [==============================] - 65s 42ms/step - loss: 2.0470 - accuracy: 0.4558 - val_loss: 1.9601 - val_accuracy: 0.4901\n",
            "Epoch 5/10\n",
            "1536/1536 [==============================] - 65s 42ms/step - loss: 2.0052 - accuracy: 0.4660 - val_loss: 1.9165 - val_accuracy: 0.4981\n",
            "Epoch 6/10\n",
            "1536/1536 [==============================] - 65s 42ms/step - loss: 1.9535 - accuracy: 0.4811 - val_loss: 1.8782 - val_accuracy: 0.5088\n",
            "Epoch 7/10\n",
            "1536/1536 [==============================] - 65s 42ms/step - loss: 1.8930 - accuracy: 0.4953 - val_loss: 1.8434 - val_accuracy: 0.5187\n",
            "Epoch 8/10\n",
            "1536/1536 [==============================] - 65s 42ms/step - loss: 1.8631 - accuracy: 0.5039 - val_loss: 1.7963 - val_accuracy: 0.5292\n",
            "Epoch 9/10\n",
            "1536/1536 [==============================] - 65s 42ms/step - loss: 1.8074 - accuracy: 0.5168 - val_loss: 1.7601 - val_accuracy: 0.5389\n",
            "Epoch 10/10\n",
            "1536/1536 [==============================] - 65s 42ms/step - loss: 1.7756 - accuracy: 0.5244 - val_loss: 1.7229 - val_accuracy: 0.5445\n"
          ],
          "name": "stdout"
        }
      ]
    },
    {
      "cell_type": "code",
      "metadata": {
        "colab": {
          "base_uri": "https://localhost:8080/",
          "height": 537
        },
        "id": "d2cc6UU--ng8",
        "outputId": "e8faa4f7-551d-4ba6-e92c-0f4e681167c1"
      },
      "source": [
        "plot_res(history_4)"
      ],
      "execution_count": null,
      "outputs": [
        {
          "output_type": "display_data",
          "data": {
            "image/png": "[encoded data removed]",
            "text/plain": [
              "<Figure size 432x288 with 1 Axes>"
            ]
          },
          "metadata": {
            "tags": []
          }
        },
        {
          "output_type": "display_data",
          "data": {
            "image/png": "[encoded data removed]",
            "text/plain": [
              "<Figure size 432x288 with 1 Axes>"
            ]
          },
          "metadata": {
            "tags": []
          }
        }
      ]
    },
    {
      "cell_type": "markdown",
      "metadata": {
        "id": "l45vhWyEba-v"
      },
      "source": [
        "#### Додавання ще 2 шарів та оптимізатор `Аdamax`"
      ]
    },
    {
      "cell_type": "code",
      "metadata": {
        "id": "IaZiZmT6beXd"
      },
      "source": [
        "model_4 = tf.keras.Sequential([\n",
        "  layers.BatchNormalization (input_shape =(64 , 64 , 1)),\n",
        "  layers.Conv2D (32, (3 , 3) , padding ='same', activation ='relu'),\n",
        "  layers.Conv2D (32 , (3 , 3) , padding ='same', activation ='relu'),\n",
        "  layers.MaxPooling2D ( pool_size =(2 , 2)),\n",
        "  layers.Dropout(0.25),\n",
        "  layers.BatchNormalization (),\n",
        "  layers.Conv2D (64, (3 , 3) , padding ='same', activation ='relu'),\n",
        "  layers.Conv2D (64 , (3 , 3) , padding ='same', activation ='relu'),\n",
        "  layers.MaxPooling2D ( pool_size =(2 , 2)),\n",
        "  layers.Dropout(0.25),\n",
        "  layers.Flatten(),\n",
        "  layers.Dense(50, activation ='softmax')\n",
        "])\n",
        "\n",
        "model_4.compile(\n",
        "  optimizer= tf.optimizers.Adamax(),  \n",
        "  loss=\"categorical_crossentropy\",\n",
        "  metrics=['accuracy'],)"
      ],
      "execution_count": null,
      "outputs": []
    },
    {
      "cell_type": "code",
      "metadata": {
        "colab": {
          "base_uri": "https://localhost:8080/"
        },
        "id": "AsSokW8rb_S8",
        "outputId": "f7541954-eaad-42e8-9ed1-857eb3cb6697"
      },
      "source": [
        "with tf.device('/device:GPU:0'):\n",
        "  history_4 = model_4.fit(\n",
        "    train_data,\n",
        "    validation_data=valid_data,\n",
        "    epochs=15,\n",
        "    callbacks = [callback]\n",
        "  )"
      ],
      "execution_count": null,
      "outputs": [
        {
          "output_type": "stream",
          "text": [
            "Epoch 1/15\n",
            "1536/1536 [==============================] - 78s 30ms/step - loss: 2.1755 - accuracy: 0.4387 - val_loss: 1.3620 - val_accuracy: 0.6274\n",
            "Epoch 2/15\n",
            "1536/1536 [==============================] - 45s 29ms/step - loss: 1.2799 - accuracy: 0.6498 - val_loss: 1.1731 - val_accuracy: 0.6853\n",
            "Epoch 3/15\n",
            "1536/1536 [==============================] - 45s 29ms/step - loss: 1.0260 - accuracy: 0.7159 - val_loss: 1.0968 - val_accuracy: 0.7037\n",
            "Epoch 4/15\n",
            "1536/1536 [==============================] - 45s 29ms/step - loss: 0.8586 - accuracy: 0.7593 - val_loss: 1.0617 - val_accuracy: 0.7146\n",
            "Epoch 5/15\n",
            "1536/1536 [==============================] - 44s 29ms/step - loss: 0.7188 - accuracy: 0.7951 - val_loss: 1.0769 - val_accuracy: 0.7180\n",
            "Epoch 6/15\n",
            "1536/1536 [==============================] - 45s 29ms/step - loss: 0.6216 - accuracy: 0.8200 - val_loss: 1.0741 - val_accuracy: 0.7235\n",
            "Epoch 7/15\n",
            "1536/1536 [==============================] - 45s 30ms/step - loss: 0.5357 - accuracy: 0.8429 - val_loss: 1.1286 - val_accuracy: 0.7204\n"
          ],
          "name": "stdout"
        }
      ]
    },
    {
      "cell_type": "code",
      "metadata": {
        "colab": {
          "base_uri": "https://localhost:8080/",
          "height": 537
        },
        "id": "mgYxTUzfdf6E",
        "outputId": "b310c023-1082-4218-b70e-014c44066117"
      },
      "source": [
        "plot_res(history_4)"
      ],
      "execution_count": null,
      "outputs": [
        {
          "output_type": "display_data",
          "data": {
            "image/png": "[encoded data removed]",
            "text/plain": [
              "<Figure size 432x288 with 1 Axes>"
            ]
          },
          "metadata": {
            "tags": []
          }
        },
        {
          "output_type": "display_data",
          "data": {
            "image/png": "[encoded data removed]",
            "text/plain": [
              "<Figure size 432x288 with 1 Axes>"
            ]
          },
          "metadata": {
            "tags": []
          }
        }
      ]
    },
    {
      "cell_type": "markdown",
      "metadata": {
        "id": "Wn9xZWcrdmkF"
      },
      "source": [
        "#### Експерименти з параметрами (batch size) та функціями активації"
      ]
    },
    {
      "cell_type": "code",
      "metadata": {
        "id": "IsZg7MTedtuO"
      },
      "source": [
        "model_5 = tf.keras.Sequential([\n",
        "  layers.BatchNormalization (input_shape =(64 , 64 , 1)),\n",
        "  layers.Conv2D (32, (6 , 6) , padding ='same', activation =layers.LeakyReLU()),\n",
        "  layers.Conv2D (32 , (6 , 6) , padding ='same', activation =layers.LeakyReLU()),\n",
        "  layers.MaxPooling2D ( pool_size =(4 , 4)),\n",
        "  layers.Dropout(0.25),\n",
        "  layers.BatchNormalization (),\n",
        "  layers.Conv2D (64, (3 , 3) , padding ='same', activation ='relu'),\n",
        "  layers.Conv2D (64 , (3 , 3) , padding ='same', activation ='relu'),\n",
        "  layers.MaxPooling2D ( pool_size =(2 , 2)),\n",
        "  layers.Dropout(0.25),\n",
        "  layers.Flatten(),\n",
        "  layers.Dense(50, activation ='softmax')\n",
        "])\n",
        "\n",
        "model_5.compile(\n",
        "  optimizer= tf.optimizers.Adamax(),  \n",
        "  loss=\"categorical_crossentropy\",\n",
        "  metrics=['accuracy', tf.keras.metrics.AUC()],)"
      ],
      "execution_count": null,
      "outputs": []
    },
    {
      "cell_type": "code",
      "metadata": {
        "colab": {
          "base_uri": "https://localhost:8080/"
        },
        "id": "FEuQ8sC_eNkO",
        "outputId": "6769e3d0-5d11-4d2a-c8d3-49a2c7f16907"
      },
      "source": [
        "with tf.device('/device:GPU:0'):\n",
        "  history_5 = model_5.fit(\n",
        "    train_data,\n",
        "    validation_data=valid_data,\n",
        "    epochs=15,\n",
        "    callbacks = [callback]\n",
        "  )"
      ],
      "execution_count": null,
      "outputs": [
        {
          "output_type": "stream",
          "text": [
            "Epoch 1/15\n",
            "1536/1536 [==============================] - 64s 41ms/step - loss: 2.1903 - accuracy: 0.4169 - auc: 0.9086 - val_loss: 1.3217 - val_accuracy: 0.6361 - val_auc: 0.9662\n",
            "Epoch 2/15\n",
            "1536/1536 [==============================] - 62s 41ms/step - loss: 1.3220 - accuracy: 0.6370 - auc: 0.9658 - val_loss: 1.1265 - val_accuracy: 0.6898 - val_auc: 0.9729\n",
            "Epoch 3/15\n",
            "1536/1536 [==============================] - 63s 41ms/step - loss: 1.1088 - accuracy: 0.6923 - auc: 0.9744 - val_loss: 1.0460 - val_accuracy: 0.7130 - val_auc: 0.9740\n",
            "Epoch 4/15\n",
            "1536/1536 [==============================] - 63s 41ms/step - loss: 0.9912 - accuracy: 0.7249 - auc: 0.9779 - val_loss: 0.9751 - val_accuracy: 0.7354 - val_auc: 0.9760\n",
            "Epoch 5/15\n",
            "1536/1536 [==============================] - 63s 41ms/step - loss: 0.9016 - accuracy: 0.7472 - auc: 0.9809 - val_loss: 0.9245 - val_accuracy: 0.7459 - val_auc: 0.9785\n",
            "Epoch 6/15\n",
            "1536/1536 [==============================] - 63s 41ms/step - loss: 0.8421 - accuracy: 0.7623 - auc: 0.9831 - val_loss: 0.8997 - val_accuracy: 0.7532 - val_auc: 0.9803\n",
            "Epoch 7/15\n",
            "1536/1536 [==============================] - 63s 41ms/step - loss: 0.7763 - accuracy: 0.7810 - auc: 0.9849 - val_loss: 0.8875 - val_accuracy: 0.7603 - val_auc: 0.9775\n",
            "Epoch 8/15\n",
            "1536/1536 [==============================] - 63s 41ms/step - loss: 0.7400 - accuracy: 0.7896 - auc: 0.9860 - val_loss: 0.8706 - val_accuracy: 0.7667 - val_auc: 0.9774\n",
            "Epoch 9/15\n",
            "1536/1536 [==============================] - 65s 42ms/step - loss: 0.7067 - accuracy: 0.7965 - auc: 0.9867 - val_loss: 0.8652 - val_accuracy: 0.7689 - val_auc: 0.9783\n",
            "Epoch 10/15\n",
            "1536/1536 [==============================] - 64s 42ms/step - loss: 0.6648 - accuracy: 0.8090 - auc: 0.9880 - val_loss: 0.8592 - val_accuracy: 0.7714 - val_auc: 0.9778\n",
            "Epoch 11/15\n",
            "1536/1536 [==============================] - 63s 41ms/step - loss: 0.6411 - accuracy: 0.8137 - auc: 0.9887 - val_loss: 0.8664 - val_accuracy: 0.7711 - val_auc: 0.9779\n",
            "Epoch 12/15\n",
            "1536/1536 [==============================] - 64s 42ms/step - loss: 0.6145 - accuracy: 0.8206 - auc: 0.9894 - val_loss: 0.8632 - val_accuracy: 0.7745 - val_auc: 0.9764\n",
            "Epoch 13/15\n",
            "1536/1536 [==============================] - 63s 41ms/step - loss: 0.5956 - accuracy: 0.8253 - auc: 0.9902 - val_loss: 0.8626 - val_accuracy: 0.7751 - val_auc: 0.9763\n"
          ],
          "name": "stdout"
        }
      ]
    },
    {
      "cell_type": "code",
      "metadata": {
        "colab": {
          "base_uri": "https://localhost:8080/",
          "height": 537
        },
        "id": "vJ3wNGc2gcFK",
        "outputId": "fd9409e3-fc17-4a46-ff0a-e23e2e5e48f3"
      },
      "source": [
        "plot_res(history_5)"
      ],
      "execution_count": null,
      "outputs": [
        {
          "output_type": "display_data",
          "data": {
            "image/png": "[encoded data removed]",
            "text/plain": [
              "<Figure size 432x288 with 1 Axes>"
            ]
          },
          "metadata": {
            "tags": []
          }
        },
        {
          "output_type": "display_data",
          "data": {
            "image/png": "[encoded data removed]",
            "text/plain": [
              "<Figure size 432x288 with 1 Axes>"
            ]
          },
          "metadata": {
            "tags": []
          }
        }
      ]
    },
    {
      "cell_type": "markdown",
      "metadata": {
        "id": "aoIS139Ohst7"
      },
      "source": [
        "#### Подальші експерименти з гіперпараметрами та `valid` padding"
      ]
    },
    {
      "cell_type": "code",
      "metadata": {
        "id": "xBq4Tt6wiZF5"
      },
      "source": [
        "model_6 = tf.keras.Sequential([\n",
        "  layers.BatchNormalization (input_shape =(64 , 64 , 1)),\n",
        "  layers.Conv2D (16, (4 , 4) , padding ='valid', activation =layers.LeakyReLU()),\n",
        "  layers.Conv2D (16 , (4 , 4) , padding ='valid', activation =layers.LeakyReLU()),\n",
        "  layers.MaxPooling2D ( pool_size =(3 , 3)),\n",
        "  layers.Dropout(0.25),\n",
        "  layers.BatchNormalization (),\n",
        "  layers.Conv2D (32, (4 , 4) , padding ='valid', activation =layers.LeakyReLU()),\n",
        "  layers.Conv2D (32 , (4 , 4) , padding ='valid', activation =layers.LeakyReLU()),\n",
        "  layers.MaxPooling2D ( pool_size =(3 , 3)),\n",
        "  layers.Dropout(0.25),\n",
        "  layers.Flatten(),\n",
        "  layers.Dense(50, activation ='softmax')\n",
        "])\n",
        "\n",
        "model_6.compile(\n",
        "  optimizer= tf.optimizers.Adamax(),  \n",
        "  loss=\"categorical_crossentropy\",\n",
        "  metrics=['accuracy', tf.keras.metrics.AUC()],)"
      ],
      "execution_count": null,
      "outputs": []
    },
    {
      "cell_type": "code",
      "metadata": {
        "colab": {
          "base_uri": "https://localhost:8080/"
        },
        "id": "r5NQRU8Si17T",
        "outputId": "3c6aedbc-ade8-4777-beb9-1879e5d67c53"
      },
      "source": [
        "with tf.device('/device:GPU:0'):\n",
        "  history_6 = model_6.fit(\n",
        "    train_data,\n",
        "    validation_data=valid_data,\n",
        "    epochs=15,\n",
        "    callbacks = [callback]\n",
        "  )"
      ],
      "execution_count": null,
      "outputs": [
        {
          "output_type": "stream",
          "text": [
            "Epoch 1/15\n",
            "1536/1536 [==============================] - 40s 26ms/step - loss: 2.8651 - accuracy: 0.2575 - auc_1: 0.8405 - val_loss: 1.8474 - val_accuracy: 0.5030 - val_auc_1: 0.9448\n",
            "Epoch 2/15\n",
            "1536/1536 [==============================] - 39s 26ms/step - loss: 1.9059 - accuracy: 0.4818 - auc_1: 0.9371 - val_loss: 1.5809 - val_accuracy: 0.5714 - val_auc_1: 0.9557\n",
            "Epoch 3/15\n",
            "1536/1536 [==============================] - 40s 26ms/step - loss: 1.6860 - accuracy: 0.5406 - auc_1: 0.9487 - val_loss: 1.4596 - val_accuracy: 0.6039 - val_auc_1: 0.9614\n",
            "Epoch 4/15\n",
            "1536/1536 [==============================] - 40s 26ms/step - loss: 1.5651 - accuracy: 0.5728 - auc_1: 0.9549 - val_loss: 1.3881 - val_accuracy: 0.6216 - val_auc_1: 0.9639\n",
            "Epoch 5/15\n",
            "1536/1536 [==============================] - 39s 26ms/step - loss: 1.4950 - accuracy: 0.5891 - auc_1: 0.9585 - val_loss: 1.3285 - val_accuracy: 0.6410 - val_auc_1: 0.9673\n",
            "Epoch 6/15\n",
            "1536/1536 [==============================] - 40s 26ms/step - loss: 1.4349 - accuracy: 0.6027 - auc_1: 0.9615 - val_loss: 1.2949 - val_accuracy: 0.6451 - val_auc_1: 0.9679\n",
            "Epoch 7/15\n",
            "1536/1536 [==============================] - 40s 26ms/step - loss: 1.3897 - accuracy: 0.6162 - auc_1: 0.9628 - val_loss: 1.2618 - val_accuracy: 0.6573 - val_auc_1: 0.9688\n",
            "Epoch 8/15\n",
            "1536/1536 [==============================] - 39s 26ms/step - loss: 1.3603 - accuracy: 0.6251 - auc_1: 0.9646 - val_loss: 1.2293 - val_accuracy: 0.6655 - val_auc_1: 0.9701\n",
            "Epoch 9/15\n",
            "1536/1536 [==============================] - 40s 26ms/step - loss: 1.3352 - accuracy: 0.6293 - auc_1: 0.9657 - val_loss: 1.2110 - val_accuracy: 0.6721 - val_auc_1: 0.9712\n",
            "Epoch 10/15\n",
            "1536/1536 [==============================] - 40s 26ms/step - loss: 1.3077 - accuracy: 0.6384 - auc_1: 0.9663 - val_loss: 1.2016 - val_accuracy: 0.6717 - val_auc_1: 0.9718\n",
            "Epoch 11/15\n",
            "1536/1536 [==============================] - 40s 26ms/step - loss: 1.2880 - accuracy: 0.6442 - auc_1: 0.9673 - val_loss: 1.1804 - val_accuracy: 0.6768 - val_auc_1: 0.9720\n",
            "Epoch 12/15\n",
            "1536/1536 [==============================] - 39s 26ms/step - loss: 1.2675 - accuracy: 0.6493 - auc_1: 0.9683 - val_loss: 1.1693 - val_accuracy: 0.6823 - val_auc_1: 0.9736\n",
            "Epoch 13/15\n",
            "1536/1536 [==============================] - 40s 26ms/step - loss: 1.2387 - accuracy: 0.6575 - auc_1: 0.9694 - val_loss: 1.1529 - val_accuracy: 0.6863 - val_auc_1: 0.9723\n",
            "Epoch 14/15\n",
            "1536/1536 [==============================] - 40s 26ms/step - loss: 1.2375 - accuracy: 0.6582 - auc_1: 0.9695 - val_loss: 1.1437 - val_accuracy: 0.6875 - val_auc_1: 0.9729\n",
            "Epoch 15/15\n",
            "1536/1536 [==============================] - 40s 26ms/step - loss: 1.2212 - accuracy: 0.6615 - auc_1: 0.9701 - val_loss: 1.1357 - val_accuracy: 0.6891 - val_auc_1: 0.9738\n"
          ],
          "name": "stdout"
        }
      ]
    },
    {
      "cell_type": "code",
      "metadata": {
        "colab": {
          "base_uri": "https://localhost:8080/",
          "height": 537
        },
        "id": "ghSXH8GglNF3",
        "outputId": "b4ca47ea-5742-46c3-dfbd-9df5d54982ba"
      },
      "source": [
        "plot_res(history_6)"
      ],
      "execution_count": null,
      "outputs": [
        {
          "output_type": "display_data",
          "data": {
            "image/png": "[encoded data removed]",
            "text/plain": [
              "<Figure size 432x288 with 1 Axes>"
            ]
          },
          "metadata": {
            "tags": []
          }
        },
        {
          "output_type": "display_data",
          "data": {
            "image/png": "[encoded data removed]",
            "text/plain": [
              "<Figure size 432x288 with 1 Axes>"
            ]
          },
          "metadata": {
            "tags": []
          }
        }
      ]
    },
    {
      "cell_type": "markdown",
      "metadata": {
        "id": "auk6uYxFla-o"
      },
      "source": [
        "#### Ще один шар"
      ]
    },
    {
      "cell_type": "code",
      "metadata": {
        "id": "G1vY8g7nlY4g"
      },
      "source": [
        "model_7 = tf.keras.Sequential([\n",
        "  layers.BatchNormalization (input_shape =(64 , 64 , 1)),\n",
        "  layers.Conv2D (16, (4 , 4) , padding ='same', activation =layers.LeakyReLU()),\n",
        "  layers.Conv2D (16 , (4 , 4) , padding ='same', activation =layers.LeakyReLU()),\n",
        "  layers.MaxPooling2D ( pool_size =(3 , 3)),\n",
        "  layers.Dropout(0.25),\n",
        "  layers.BatchNormalization (),\n",
        "  layers.Conv2D (32, (4 , 4) , padding ='same', activation =layers.LeakyReLU()),\n",
        "  layers.Conv2D (32 , (4 , 4) , padding ='same', activation =layers.LeakyReLU()),\n",
        "  layers.MaxPooling2D ( pool_size =(3 , 3)),\n",
        "  layers.Dropout(0.25),\n",
        "  layers.BatchNormalization (),\n",
        "  layers.Conv2D (64, (4 , 4) , padding ='same', activation =layers.LeakyReLU()),\n",
        "  layers.Conv2D (64 , (4 , 4) , padding ='same', activation =layers.LeakyReLU()),\n",
        "  layers.MaxPooling2D ( pool_size =(3 , 3)),\n",
        "  layers.Dropout(0.25),\n",
        "  layers.Flatten(),\n",
        "  layers.Dense(50, activation ='softmax')\n",
        "])\n",
        "\n",
        "model_7.compile(\n",
        "  optimizer= tf.optimizers.Adamax(),  \n",
        "  loss=\"categorical_crossentropy\",\n",
        "  metrics=['accuracy', tf.keras.metrics.AUC()],)"
      ],
      "execution_count": null,
      "outputs": []
    },
    {
      "cell_type": "code",
      "metadata": {
        "colab": {
          "base_uri": "https://localhost:8080/"
        },
        "id": "7GwQeutOmyH3",
        "outputId": "0a03bc15-a86f-47df-bafa-3e56fe3ae88a"
      },
      "source": [
        "with tf.device('/device:GPU:0'):\n",
        "  history_7 = model_7.fit(\n",
        "    train_data,\n",
        "    validation_data=valid_data,\n",
        "    epochs=15,\n",
        "    callbacks = [callback]\n",
        "  )"
      ],
      "execution_count": null,
      "outputs": [
        {
          "output_type": "stream",
          "text": [
            "Epoch 1/15\n",
            "1536/1536 [==============================] - 48s 31ms/step - loss: 2.6514 - accuracy: 0.3049 - auc_3: 0.8652 - val_loss: 1.4893 - val_accuracy: 0.5897 - val_auc_3: 0.9603\n",
            "Epoch 2/15\n",
            "1536/1536 [==============================] - 46s 30ms/step - loss: 1.6308 - accuracy: 0.5517 - auc_3: 0.9530 - val_loss: 1.2626 - val_accuracy: 0.6512 - val_auc_3: 0.9704\n",
            "Epoch 3/15\n",
            "1536/1536 [==============================] - 46s 30ms/step - loss: 1.3943 - accuracy: 0.6113 - auc_3: 0.9638 - val_loss: 1.1328 - val_accuracy: 0.6872 - val_auc_3: 0.9738\n",
            "Epoch 4/15\n",
            "1536/1536 [==============================] - 47s 31ms/step - loss: 1.2684 - accuracy: 0.6457 - auc_3: 0.9691 - val_loss: 1.0484 - val_accuracy: 0.7095 - val_auc_3: 0.9770\n",
            "Epoch 5/15\n",
            "1536/1536 [==============================] - 47s 30ms/step - loss: 1.1905 - accuracy: 0.6662 - auc_3: 0.9721 - val_loss: 1.0085 - val_accuracy: 0.7186 - val_auc_3: 0.9784\n",
            "Epoch 6/15\n",
            "1536/1536 [==============================] - 46s 30ms/step - loss: 1.1317 - accuracy: 0.6833 - auc_3: 0.9740 - val_loss: 0.9732 - val_accuracy: 0.7303 - val_auc_3: 0.9782\n",
            "Epoch 7/15\n",
            "1536/1536 [==============================] - 47s 31ms/step - loss: 1.0811 - accuracy: 0.6965 - auc_3: 0.9759 - val_loss: 0.9274 - val_accuracy: 0.7453 - val_auc_3: 0.9811\n",
            "Epoch 8/15\n",
            "1536/1536 [==============================] - 47s 31ms/step - loss: 1.0493 - accuracy: 0.7074 - auc_3: 0.9763 - val_loss: 0.9084 - val_accuracy: 0.7475 - val_auc_3: 0.9805\n",
            "Epoch 9/15\n",
            "1536/1536 [==============================] - 46s 30ms/step - loss: 1.0111 - accuracy: 0.7174 - auc_3: 0.9779 - val_loss: 0.8954 - val_accuracy: 0.7516 - val_auc_3: 0.9800\n",
            "Epoch 10/15\n",
            "1536/1536 [==============================] - 48s 31ms/step - loss: 0.9752 - accuracy: 0.7259 - auc_3: 0.9793 - val_loss: 0.8639 - val_accuracy: 0.7614 - val_auc_3: 0.9817\n",
            "Epoch 11/15\n",
            "1536/1536 [==============================] - 47s 31ms/step - loss: 0.9631 - accuracy: 0.7285 - auc_3: 0.9794 - val_loss: 0.8562 - val_accuracy: 0.7634 - val_auc_3: 0.9816\n",
            "Epoch 12/15\n",
            "1536/1536 [==============================] - 47s 30ms/step - loss: 0.9379 - accuracy: 0.7341 - auc_3: 0.9802 - val_loss: 0.8292 - val_accuracy: 0.7728 - val_auc_3: 0.9817\n",
            "Epoch 13/15\n",
            "1536/1536 [==============================] - 47s 31ms/step - loss: 0.9163 - accuracy: 0.7415 - auc_3: 0.9808 - val_loss: 0.8317 - val_accuracy: 0.7693 - val_auc_3: 0.9811\n",
            "Epoch 14/15\n",
            "1536/1536 [==============================] - 47s 30ms/step - loss: 0.8953 - accuracy: 0.7479 - auc_3: 0.9814 - val_loss: 0.8135 - val_accuracy: 0.7750 - val_auc_3: 0.9825\n",
            "Epoch 15/15\n",
            "1536/1536 [==============================] - 46s 30ms/step - loss: 0.8817 - accuracy: 0.7497 - auc_3: 0.9820 - val_loss: 0.8048 - val_accuracy: 0.7775 - val_auc_3: 0.9829\n"
          ],
          "name": "stdout"
        }
      ]
    },
    {
      "cell_type": "code",
      "metadata": {
        "colab": {
          "base_uri": "https://localhost:8080/",
          "height": 537
        },
        "id": "7W5GhbZVpuSx",
        "outputId": "fe55080c-6c89-4050-93a7-3d2fb53b95aa"
      },
      "source": [
        "plot_res(history_7)"
      ],
      "execution_count": null,
      "outputs": [
        {
          "output_type": "display_data",
          "data": {
            "image/png": "[encoded data removed]",
            "text/plain": [
              "<Figure size 432x288 with 1 Axes>"
            ]
          },
          "metadata": {
            "tags": []
          }
        },
        {
          "output_type": "display_data",
          "data": {
            "image/png": "[encoded data removed]",
            "text/plain": [
              "<Figure size 432x288 with 1 Axes>"
            ]
          },
          "metadata": {
            "tags": []
          }
        }
      ]
    },
    {
      "cell_type": "markdown",
      "metadata": {
        "id": "gjUI9zFNoP1u"
      },
      "source": [
        "## Навчання на справжніх даних"
      ]
    },
    {
      "cell_type": "markdown",
      "metadata": {
        "id": "GaltzBd1ogCd"
      },
      "source": [
        "### Поділ на вибірки та генерація потоку даних для навчання мереж"
      ]
    },
    {
      "cell_type": "code",
      "metadata": {
        "id": "TNTAScPkrCYF"
      },
      "source": [
        "#shutil.rmtree('/tmp/train_50')\n",
        "#shutil.rmtree('/tmp/test_50')\n",
        "#shutil.rmtree('/tmp/valid_50')"
      ],
      "execution_count": null,
      "outputs": []
    },
    {
      "cell_type": "code",
      "metadata": {
        "id": "pYdWxpfhopg-"
      },
      "source": [
        "if not os.path.isdir(\"/tmp/train\"):\n",
        "     os.mkdir(\"/tmp/train\")\n",
        "if not os.path.isdir(\"/tmp/test\"):\n",
        "     os.mkdir(\"/tmp/test\")\n",
        "if not os.path.isdir(\"/tmp/valid\"):\n",
        "     os.mkdir(\"/tmp/valid\")"
      ],
      "execution_count": null,
      "outputs": []
    },
    {
      "cell_type": "code",
      "metadata": {
        "id": "asSpnhb9opg_"
      },
      "source": [
        "for folder in os.listdir(\"/tmp/kkanji2\"):\n",
        "\n",
        "  dir = \"/tmp/kkanji2\"+\"/\"+folder\n",
        "  sample = os.listdir(dir)\n",
        "  sample = np.array(sample)\n",
        "  np.random.shuffle(sample)\n",
        "  train_sample, valid_sample, test_sample = np.split(sample, [int(0.8*len(sample)), int(0.9*len(sample))])\n",
        "  \n",
        "  os.mkdir(f\"/tmp/train/{folder}\")\n",
        "  os.mkdir(f\"/tmp/valid/{folder}\")\n",
        "  os.mkdir(f\"/tmp/test/{folder}\")\n",
        "\n",
        "  for (i, train) in enumerate(train_sample):\n",
        "      \n",
        "      shutil.copyfile(dir+\"/\"+train, f\"/tmp/train/{folder}/{train}\")\n",
        "      os.rename(f\"/tmp/train/{folder}/{train}\", \n",
        "                f\"/tmp/train/{folder}/{folder}_{i}.png\")\n",
        "\n",
        "\n",
        "  for (j, valid) in enumerate(valid_sample):\n",
        "\n",
        "      shutil.copyfile(dir+\"/\"+valid, f\"/tmp/valid/{folder}/{valid}\")\n",
        "      os.rename(f\"/tmp/valid/{folder}/{valid}\", \n",
        "                f\"/tmp/valid/{folder}/{folder}_{j}.png\")\n",
        "      \n",
        "  for (k, test) in enumerate(test_sample):\n",
        "    \n",
        "      shutil.copyfile(dir+\"/\"+test, f\"/tmp/test/{folder}/{test}\")\n",
        "      os.rename(f\"/tmp/test/{folder}/{test}\", \n",
        "                f\"/tmp/test/{folder}/{folder}_{k}.png\")\n",
        "      "
      ],
      "execution_count": null,
      "outputs": []
    },
    {
      "cell_type": "code",
      "metadata": {
        "colab": {
          "base_uri": "https://localhost:8080/"
        },
        "id": "TpB3YHR-oXKl",
        "outputId": "3ac69195-f2f9-4281-9714-1fd73be1cf02"
      },
      "source": [
        "train_data, valid_data, test_data = generate_train_valid_test(\"/tmp\", 64, 0)"
      ],
      "execution_count": null,
      "outputs": [
        {
          "output_type": "stream",
          "text": [
            "Found 110449 images belonging to 3832 classes.\n",
            "Found 13648 images belonging to 3832 classes.\n",
            "Found 16327 images belonging to 3832 classes.\n"
          ],
          "name": "stdout"
        }
      ]
    },
    {
      "cell_type": "markdown",
      "metadata": {
        "id": "HZwaw5Xsp-Tk"
      },
      "source": [
        "### Остання модель з попереднього пункту"
      ]
    },
    {
      "cell_type": "code",
      "metadata": {
        "id": "37GCmZrYp81E"
      },
      "source": [
        "model_7 = tf.keras.Sequential([\n",
        "  layers.BatchNormalization (input_shape =(64 , 64 , 1)),\n",
        "  layers.Conv2D (16, (4 , 4) , padding ='same', activation =layers.LeakyReLU()),\n",
        "  layers.Conv2D (16 , (4 , 4) , padding ='same', activation =layers.LeakyReLU()),\n",
        "  layers.MaxPooling2D ( pool_size =(3 , 3)),\n",
        "  layers.Dropout(0.25),\n",
        "  layers.BatchNormalization (),\n",
        "  layers.Conv2D (32, (4 , 4) , padding ='same', activation =layers.LeakyReLU()),\n",
        "  layers.Conv2D (32 , (4 , 4) , padding ='same', activation =layers.LeakyReLU()),\n",
        "  layers.MaxPooling2D ( pool_size =(3 , 3)),\n",
        "  layers.Dropout(0.25),\n",
        "  layers.BatchNormalization (),\n",
        "  layers.Conv2D (64, (4 , 4) , padding ='same', activation =layers.LeakyReLU()),\n",
        "  layers.Conv2D (64 , (4 , 4) , padding ='same', activation =layers.LeakyReLU()),\n",
        "  layers.MaxPooling2D ( pool_size =(3 , 3)),\n",
        "  layers.Dropout(0.25),\n",
        "  layers.Flatten(),\n",
        "  layers.Dense(len(image_classes), activation ='softmax')\n",
        "])\n",
        "\n",
        "model_7.compile(\n",
        "  optimizer= tf.optimizers.Adamax(),  \n",
        "  loss=\"categorical_crossentropy\",\n",
        "  metrics=['accuracy', tf.keras.metrics.AUC()],)"
      ],
      "execution_count": null,
      "outputs": []
    },
    {
      "cell_type": "code",
      "metadata": {
        "colab": {
          "base_uri": "https://localhost:8080/"
        },
        "id": "bA6yQZiiqV_G",
        "outputId": "deee15f7-34b4-44d7-982b-b5fb7b4a4d58"
      },
      "source": [
        "with tf.device('/device:GPU:0'):\n",
        "  history_7 = model_7.fit(\n",
        "    train_data,\n",
        "    validation_data=valid_data,\n",
        "    epochs=15,\n",
        "    callbacks = [callback]\n",
        "  )"
      ],
      "execution_count": null,
      "outputs": [
        {
          "output_type": "stream",
          "text": [
            "Epoch 1/15\n",
            "1726/1726 [==============================] - 116s 66ms/step - loss: 5.6831 - accuracy: 0.1753 - auc_5: 0.6937 - val_loss: 2.9083 - val_accuracy: 0.5195 - val_auc_5: 0.8894\n",
            "Epoch 2/15\n",
            "1726/1726 [==============================] - 114s 66ms/step - loss: 2.9902 - accuracy: 0.5032 - auc_5: 0.8881 - val_loss: 1.9510 - val_accuracy: 0.6534 - val_auc_5: 0.9333\n",
            "Epoch 3/15\n",
            "1726/1726 [==============================] - 114s 66ms/step - loss: 2.1544 - accuracy: 0.6171 - auc_5: 0.9287 - val_loss: 1.4372 - val_accuracy: 0.7369 - val_auc_5: 0.9572\n",
            "Epoch 4/15\n",
            "1726/1726 [==============================] - 114s 66ms/step - loss: 1.6877 - accuracy: 0.6860 - auc_5: 0.9480 - val_loss: 1.2314 - val_accuracy: 0.7633 - val_auc_5: 0.9608\n",
            "Epoch 5/15\n",
            "1726/1726 [==============================] - 114s 66ms/step - loss: 1.3950 - accuracy: 0.7300 - auc_5: 0.9588 - val_loss: 1.0862 - val_accuracy: 0.7829 - val_auc_5: 0.9685\n",
            "Epoch 6/15\n",
            "1726/1726 [==============================] - 113s 66ms/step - loss: 1.1952 - accuracy: 0.7639 - auc_5: 0.9661 - val_loss: 0.8950 - val_accuracy: 0.8158 - val_auc_5: 0.9748\n",
            "Epoch 7/15\n",
            "1726/1726 [==============================] - 113s 66ms/step - loss: 1.0450 - accuracy: 0.7880 - auc_5: 0.9715 - val_loss: 0.7910 - val_accuracy: 0.8350 - val_auc_5: 0.9791\n",
            "Epoch 8/15\n",
            "1726/1726 [==============================] - 114s 66ms/step - loss: 0.9136 - accuracy: 0.8095 - auc_5: 0.9765 - val_loss: 0.7230 - val_accuracy: 0.8472 - val_auc_5: 0.9820\n",
            "Epoch 9/15\n",
            "1726/1726 [==============================] - 114s 66ms/step - loss: 0.8109 - accuracy: 0.8250 - auc_5: 0.9803 - val_loss: 0.6583 - val_accuracy: 0.8601 - val_auc_5: 0.9836\n",
            "Epoch 10/15\n",
            "1726/1726 [==============================] - 114s 66ms/step - loss: 0.7463 - accuracy: 0.8359 - auc_5: 0.9819 - val_loss: 0.6347 - val_accuracy: 0.8642 - val_auc_5: 0.9838\n",
            "Epoch 11/15\n",
            "1726/1726 [==============================] - 114s 66ms/step - loss: 0.6709 - accuracy: 0.8494 - auc_5: 0.9845 - val_loss: 0.6044 - val_accuracy: 0.8685 - val_auc_5: 0.9851\n",
            "Epoch 12/15\n",
            "1726/1726 [==============================] - 114s 66ms/step - loss: 0.6069 - accuracy: 0.8599 - auc_5: 0.9870 - val_loss: 0.5926 - val_accuracy: 0.8728 - val_auc_5: 0.9844\n",
            "Epoch 13/15\n",
            "1726/1726 [==============================] - 114s 66ms/step - loss: 0.5580 - accuracy: 0.8714 - auc_5: 0.9881 - val_loss: 0.5636 - val_accuracy: 0.8796 - val_auc_5: 0.9858\n",
            "Epoch 14/15\n",
            "1726/1726 [==============================] - 114s 66ms/step - loss: 0.5147 - accuracy: 0.8768 - auc_5: 0.9896 - val_loss: 0.5447 - val_accuracy: 0.8836 - val_auc_5: 0.9862\n",
            "Epoch 15/15\n",
            "1726/1726 [==============================] - 114s 66ms/step - loss: 0.4851 - accuracy: 0.8838 - auc_5: 0.9904 - val_loss: 0.5508 - val_accuracy: 0.8848 - val_auc_5: 0.9842\n"
          ],
          "name": "stdout"
        }
      ]
    },
    {
      "cell_type": "code",
      "metadata": {
        "colab": {
          "base_uri": "https://localhost:8080/",
          "height": 537
        },
        "id": "iC9hjdDOqeRU",
        "outputId": "846b0f7d-72f8-4ce9-c3d4-5e9e0567d160"
      },
      "source": [
        "plot_res(history_7)"
      ],
      "execution_count": null,
      "outputs": [
        {
          "output_type": "display_data",
          "data": {
            "image/png": "[encoded data removed]",
            "text/plain": [
              "<Figure size 432x288 with 1 Axes>"
            ]
          },
          "metadata": {
            "tags": []
          }
        },
        {
          "output_type": "display_data",
          "data": {
            "image/png": "[encoded data removed]",
            "text/plain": [
              "<Figure size 432x288 with 1 Axes>"
            ]
          },
          "metadata": {
            "tags": []
          }
        }
      ]
    },
    {
      "cell_type": "code",
      "metadata": {
        "colab": {
          "base_uri": "https://localhost:8080/"
        },
        "id": "q--JOk0X9ut5",
        "outputId": "66ae3cad-da20-4e30-a650-f227d1605783"
      },
      "source": [
        "model_7.evaluate(test_data)"
      ],
      "execution_count": null,
      "outputs": [
        {
          "output_type": "stream",
          "text": [
            "256/256 [==============================] - 12s 47ms/step - loss: 2.0131 - accuracy: 0.7823 - auc_5: 0.9393\n"
          ],
          "name": "stdout"
        },
        {
          "output_type": "execute_result",
          "data": {
            "text/plain": [
              "[2.013117551803589, 0.7822625041007996, 0.9393393993377686]"
            ]
          },
          "metadata": {
            "tags": []
          },
          "execution_count": 62
        }
      ]
    },
    {
      "cell_type": "markdown",
      "metadata": {
        "id": "IwdlaFLIsP_o"
      },
      "source": [
        "### Подальші вдосконалення моделі"
      ]
    },
    {
      "cell_type": "markdown",
      "metadata": {
        "id": "pq12WbeJsVej"
      },
      "source": [
        "#### Додавання одного шару Dense"
      ]
    },
    {
      "cell_type": "code",
      "metadata": {
        "colab": {
          "base_uri": "https://localhost:8080/"
        },
        "id": "3TVQT5mBvbaB",
        "outputId": "d7f78ad8-a2fe-4b55-bb50-643afaac9161"
      },
      "source": [
        "model_7.summary()"
      ],
      "execution_count": null,
      "outputs": [
        {
          "output_type": "stream",
          "text": [
            "Model: \"sequential_7\"\n",
            "_________________________________________________________________\n",
            "Layer (type)                 Output Shape              Param #   \n",
            "=================================================================\n",
            "batch_normalization_16 (Batc (None, 64, 64, 1)         4         \n",
            "_________________________________________________________________\n",
            "conv2d_34 (Conv2D)           (None, 64, 64, 16)        272       \n",
            "_________________________________________________________________\n",
            "conv2d_35 (Conv2D)           (None, 64, 64, 16)        4112      \n",
            "_________________________________________________________________\n",
            "max_pooling2d_17 (MaxPooling (None, 21, 21, 16)        0         \n",
            "_________________________________________________________________\n",
            "dropout_16 (Dropout)         (None, 21, 21, 16)        0         \n",
            "_________________________________________________________________\n",
            "batch_normalization_17 (Batc (None, 21, 21, 16)        64        \n",
            "_________________________________________________________________\n",
            "conv2d_36 (Conv2D)           (None, 21, 21, 32)        8224      \n",
            "_________________________________________________________________\n",
            "conv2d_37 (Conv2D)           (None, 21, 21, 32)        16416     \n",
            "_________________________________________________________________\n",
            "max_pooling2d_18 (MaxPooling (None, 7, 7, 32)          0         \n",
            "_________________________________________________________________\n",
            "dropout_17 (Dropout)         (None, 7, 7, 32)          0         \n",
            "_________________________________________________________________\n",
            "batch_normalization_18 (Batc (None, 7, 7, 32)          128       \n",
            "_________________________________________________________________\n",
            "conv2d_38 (Conv2D)           (None, 7, 7, 64)          32832     \n",
            "_________________________________________________________________\n",
            "conv2d_39 (Conv2D)           (None, 7, 7, 64)          65600     \n",
            "_________________________________________________________________\n",
            "max_pooling2d_19 (MaxPooling (None, 2, 2, 64)          0         \n",
            "_________________________________________________________________\n",
            "dropout_18 (Dropout)         (None, 2, 2, 64)          0         \n",
            "_________________________________________________________________\n",
            "flatten_7 (Flatten)          (None, 256)               0         \n",
            "_________________________________________________________________\n",
            "dense_7 (Dense)              (None, 3832)              984824    \n",
            "=================================================================\n",
            "Total params: 1,112,476\n",
            "Trainable params: 1,112,378\n",
            "Non-trainable params: 98\n",
            "_________________________________________________________________\n"
          ],
          "name": "stdout"
        }
      ]
    },
    {
      "cell_type": "code",
      "metadata": {
        "id": "OPtNYru_sUxz"
      },
      "source": [
        "model_8 = tf.keras.Sequential([\n",
        "  layers.BatchNormalization (input_shape =(64 , 64 , 1)),\n",
        "  layers.Conv2D (16, (4 , 4) , padding ='same', activation =layers.LeakyReLU()),\n",
        "  layers.Conv2D (16 , (4 , 4) , padding ='same', activation =layers.LeakyReLU()),\n",
        "  layers.MaxPooling2D ( pool_size =(3 , 3)),\n",
        "  layers.Dropout(0.25),\n",
        "\n",
        "  layers.BatchNormalization (),\n",
        "  layers.Conv2D (32, (4 , 4) , padding ='same', activation =layers.LeakyReLU()),\n",
        "  layers.Conv2D (32 , (4 , 4) , padding ='same', activation =layers.LeakyReLU()),\n",
        "  layers.MaxPooling2D ( pool_size =(3 , 3)),\n",
        "  layers.Dropout(0.25),\n",
        "\n",
        "  layers.BatchNormalization (),\n",
        "  layers.Conv2D (64, (4 , 4) , padding ='same', activation =layers.LeakyReLU()),\n",
        "  layers.Conv2D (64 , (4 , 4) , padding ='same', activation =layers.LeakyReLU()),\n",
        "  layers.MaxPooling2D ( pool_size =(3 , 3)),\n",
        "  layers.Dropout(0.25),\n",
        "\n",
        "  layers.Flatten(),\n",
        "\n",
        "  layers.Dense(256, activation =layers.LeakyReLU()),\n",
        "  layers.Dropout(0.5),\n",
        "  layers.Dense(len(image_classes), activation ='softmax')\n",
        "])\n",
        "\n",
        "model_8.compile(\n",
        "  optimizer= tf.optimizers.Adamax(),  \n",
        "  loss=\"categorical_crossentropy\",\n",
        "  metrics=['accuracy', tf.keras.metrics.AUC()],)"
      ],
      "execution_count": null,
      "outputs": []
    },
    {
      "cell_type": "code",
      "metadata": {
        "colab": {
          "base_uri": "https://localhost:8080/"
        },
        "id": "fIorNllUxtro",
        "outputId": "b8222acf-d7e6-4705-9d5c-b5ec99d149e4"
      },
      "source": [
        "with tf.device('/device:GPU:0'):\n",
        "  history_8 = model_8.fit(\n",
        "    train_data,\n",
        "    validation_data=valid_data,\n",
        "    epochs=15,\n",
        "    callbacks = [callback]\n",
        "  )"
      ],
      "execution_count": null,
      "outputs": [
        {
          "output_type": "stream",
          "text": [
            "Epoch 1/15\n",
            "1726/1726 [==============================] - 116s 67ms/step - loss: 6.1776 - accuracy: 0.1093 - auc_6: 0.6517 - val_loss: 3.7468 - val_accuracy: 0.4039 - val_auc_6: 0.8292\n",
            "Epoch 2/15\n",
            "1726/1726 [==============================] - 116s 67ms/step - loss: 4.0413 - accuracy: 0.3637 - auc_6: 0.8223 - val_loss: 2.6251 - val_accuracy: 0.5601 - val_auc_6: 0.8998\n",
            "Epoch 3/15\n",
            "1726/1726 [==============================] - 115s 67ms/step - loss: 3.1840 - accuracy: 0.4735 - auc_6: 0.8771 - val_loss: 2.0792 - val_accuracy: 0.6498 - val_auc_6: 0.9286\n",
            "Epoch 4/15\n",
            "1726/1726 [==============================] - 116s 67ms/step - loss: 2.6909 - accuracy: 0.5415 - auc_6: 0.9036 - val_loss: 1.7128 - val_accuracy: 0.6953 - val_auc_6: 0.9443\n",
            "Epoch 5/15\n",
            "1726/1726 [==============================] - 115s 66ms/step - loss: 2.3528 - accuracy: 0.5841 - auc_6: 0.9201 - val_loss: 1.4830 - val_accuracy: 0.7282 - val_auc_6: 0.9545\n",
            "Epoch 6/15\n",
            "1726/1726 [==============================] - 114s 66ms/step - loss: 2.1083 - accuracy: 0.6224 - auc_6: 0.9307 - val_loss: 1.2997 - val_accuracy: 0.7562 - val_auc_6: 0.9610\n",
            "Epoch 7/15\n",
            "1726/1726 [==============================] - 114s 66ms/step - loss: 1.9106 - accuracy: 0.6496 - auc_6: 0.9396 - val_loss: 1.1962 - val_accuracy: 0.7671 - val_auc_6: 0.9653\n",
            "Epoch 8/15\n",
            "1726/1726 [==============================] - 114s 66ms/step - loss: 1.7547 - accuracy: 0.6711 - auc_6: 0.9463 - val_loss: 1.0489 - val_accuracy: 0.7967 - val_auc_6: 0.9713\n",
            "Epoch 9/15\n",
            "1726/1726 [==============================] - 114s 66ms/step - loss: 1.6284 - accuracy: 0.6915 - auc_6: 0.9509 - val_loss: 0.9578 - val_accuracy: 0.8080 - val_auc_6: 0.9732\n",
            "Epoch 10/15\n",
            "1726/1726 [==============================] - 114s 66ms/step - loss: 1.5408 - accuracy: 0.7045 - auc_6: 0.9543 - val_loss: 0.8967 - val_accuracy: 0.8178 - val_auc_6: 0.9765\n",
            "Epoch 11/15\n",
            "1726/1726 [==============================] - 114s 66ms/step - loss: 1.4484 - accuracy: 0.7180 - auc_6: 0.9582 - val_loss: 0.8396 - val_accuracy: 0.8316 - val_auc_6: 0.9776\n",
            "Epoch 12/15\n",
            "1726/1726 [==============================] - 115s 66ms/step - loss: 1.3670 - accuracy: 0.7309 - auc_6: 0.9614 - val_loss: 0.7841 - val_accuracy: 0.8420 - val_auc_6: 0.9802\n",
            "Epoch 13/15\n",
            "1726/1726 [==============================] - 115s 66ms/step - loss: 1.3070 - accuracy: 0.7393 - auc_6: 0.9636 - val_loss: 0.7494 - val_accuracy: 0.8461 - val_auc_6: 0.9816\n",
            "Epoch 14/15\n",
            "1726/1726 [==============================] - 114s 66ms/step - loss: 1.2549 - accuracy: 0.7467 - auc_6: 0.9653 - val_loss: 0.7011 - val_accuracy: 0.8526 - val_auc_6: 0.9831\n",
            "Epoch 15/15\n",
            "1726/1726 [==============================] - 115s 66ms/step - loss: 1.2179 - accuracy: 0.7517 - auc_6: 0.9670 - val_loss: 0.6802 - val_accuracy: 0.8539 - val_auc_6: 0.9838\n"
          ],
          "name": "stdout"
        }
      ]
    },
    {
      "cell_type": "code",
      "metadata": {
        "colab": {
          "base_uri": "https://localhost:8080/",
          "height": 537
        },
        "id": "tNAB3gYI4bHM",
        "outputId": "05bc70d2-c4fc-46c9-94da-8d2d63e207f1"
      },
      "source": [
        "plot_res(history_8)"
      ],
      "execution_count": null,
      "outputs": [
        {
          "output_type": "display_data",
          "data": {
            "image/png": "[encoded data removed]",
            "text/plain": [
              "<Figure size 432x288 with 1 Axes>"
            ]
          },
          "metadata": {
            "tags": []
          }
        },
        {
          "output_type": "display_data",
          "data": {
            "image/png": "[encoded data removed]",
            "text/plain": [
              "<Figure size 432x288 with 1 Axes>"
            ]
          },
          "metadata": {
            "tags": []
          }
        }
      ]
    },
    {
      "cell_type": "code",
      "metadata": {
        "colab": {
          "base_uri": "https://localhost:8080/"
        },
        "id": "386jD1pd4j6l",
        "outputId": "66ede33d-980a-41df-c37b-51dc744a578f"
      },
      "source": [
        "model_8.evaluate(test_data)"
      ],
      "execution_count": null,
      "outputs": [
        {
          "output_type": "stream",
          "text": [
            "256/256 [==============================] - 12s 47ms/step - loss: 2.1140 - accuracy: 0.7479 - auc_6: 0.9292\n"
          ],
          "name": "stdout"
        },
        {
          "output_type": "execute_result",
          "data": {
            "text/plain": [
              "[2.1139917373657227, 0.7479022741317749, 0.9292305111885071]"
            ]
          },
          "metadata": {
            "tags": []
          },
          "execution_count": 56
        }
      ]
    },
    {
      "cell_type": "markdown",
      "metadata": {
        "id": "zYpvFNqR5LPv"
      },
      "source": [
        "Результати можуть бути покращені"
      ]
    },
    {
      "cell_type": "markdown",
      "metadata": {
        "id": "3j0lGCnwyegA"
      },
      "source": [
        "#### Встановлення нового значення для MaxPoolling"
      ]
    },
    {
      "cell_type": "code",
      "metadata": {
        "id": "b0GitMQwyqgC"
      },
      "source": [
        "model_9 = tf.keras.Sequential([\n",
        "  layers.BatchNormalization (input_shape =(64 , 64 , 1)),\n",
        "  layers.Conv2D (16, (4 , 4) , padding ='same', activation =layers.LeakyReLU()),\n",
        "  layers.Conv2D (16 , (4 , 4) , padding ='same', activation =layers.LeakyReLU()),\n",
        "  layers.MaxPooling2D ( pool_size =(2 , 2)),\n",
        "  layers.Dropout(0.25),\n",
        "\n",
        "  layers.BatchNormalization (),\n",
        "  layers.Conv2D (32, (4 , 4) , padding ='same', activation =layers.LeakyReLU()),\n",
        "  layers.Conv2D (32 , (4 , 4) , padding ='same', activation =layers.LeakyReLU()),\n",
        "  layers.MaxPooling2D ( pool_size =(2 , 2)),\n",
        "  layers.Dropout(0.25),\n",
        "\n",
        "  layers.BatchNormalization (),\n",
        "  layers.Conv2D (64, (4 , 4) , padding ='same', activation =layers.LeakyReLU()),\n",
        "  layers.Conv2D (64 , (4 , 4) , padding ='same', activation =layers.LeakyReLU()),\n",
        "  layers.MaxPooling2D ( pool_size =(2 , 2)),\n",
        "  layers.Dropout(0.25),\n",
        "\n",
        "  layers.Flatten(),\n",
        "\n",
        "  layers.Dense(4096, activation =layers.LeakyReLU()),\n",
        "  layers.Dropout(0.5),\n",
        "  layers.Dense(len(image_classes), activation ='softmax')\n",
        "])\n",
        "\n",
        "model_9.compile(\n",
        "  optimizer= tf.optimizers.Adamax(),  \n",
        "  loss=\"categorical_crossentropy\",\n",
        "  metrics=['accuracy', tf.keras.metrics.AUC()],)"
      ],
      "execution_count": null,
      "outputs": []
    },
    {
      "cell_type": "code",
      "metadata": {
        "colab": {
          "base_uri": "https://localhost:8080/"
        },
        "id": "rEivNARNzpI6",
        "outputId": "b22d0b64-a463-4069-95aa-43338e8472d9"
      },
      "source": [
        "with tf.device('/device:GPU:0'):\n",
        "  history_9 = model_9.fit(\n",
        "    train_data,\n",
        "    validation_data=valid_data,\n",
        "    epochs=24,\n",
        "    callbacks = [callback]\n",
        "  )"
      ],
      "execution_count": null,
      "outputs": [
        {
          "output_type": "stream",
          "text": [
            "Epoch 1/24\n",
            "1726/1726 [==============================] - 155s 89ms/step - loss: 3.9379 - accuracy: 0.4252 - auc_7: 0.8187 - val_loss: 1.1447 - val_accuracy: 0.7806 - val_auc_7: 0.9639\n",
            "Epoch 2/24\n",
            "1726/1726 [==============================] - 154s 89ms/step - loss: 1.2119 - accuracy: 0.7721 - auc_7: 0.9617 - val_loss: 0.7308 - val_accuracy: 0.8501 - val_auc_7: 0.9789\n",
            "Epoch 3/24\n",
            "1726/1726 [==============================] - 154s 89ms/step - loss: 0.6741 - accuracy: 0.8530 - auc_7: 0.9830 - val_loss: 0.6082 - val_accuracy: 0.8740 - val_auc_7: 0.9825\n",
            "Epoch 4/24\n",
            "1726/1726 [==============================] - 154s 89ms/step - loss: 0.4075 - accuracy: 0.9018 - auc_7: 0.9915 - val_loss: 0.5782 - val_accuracy: 0.8846 - val_auc_7: 0.9826\n",
            "Epoch 5/24\n",
            "1726/1726 [==============================] - 154s 89ms/step - loss: 0.2847 - accuracy: 0.9273 - auc_7: 0.9947 - val_loss: 0.6192 - val_accuracy: 0.8802 - val_auc_7: 0.9799\n",
            "Epoch 6/24\n",
            "1726/1726 [==============================] - 153s 89ms/step - loss: 0.2043 - accuracy: 0.9430 - auc_7: 0.9969 - val_loss: 0.6247 - val_accuracy: 0.8870 - val_auc_7: 0.9788\n",
            "Epoch 7/24\n",
            "1726/1726 [==============================] - 153s 89ms/step - loss: 0.1670 - accuracy: 0.9520 - auc_7: 0.9974 - val_loss: 0.6063 - val_accuracy: 0.8933 - val_auc_7: 0.9796\n"
          ],
          "name": "stdout"
        }
      ]
    },
    {
      "cell_type": "code",
      "metadata": {
        "colab": {
          "base_uri": "https://localhost:8080/",
          "height": 537
        },
        "id": "zKzDiyMU9V0i",
        "outputId": "d89c9a8c-0bf5-4c12-c86d-bc59059a37e3"
      },
      "source": [
        "plot_res(history_9)"
      ],
      "execution_count": null,
      "outputs": [
        {
          "output_type": "display_data",
          "data": {
            "image/png": "[encoded data removed]",
            "text/plain": [
              "<Figure size 432x288 with 1 Axes>"
            ]
          },
          "metadata": {
            "tags": []
          }
        },
        {
          "output_type": "display_data",
          "data": {
            "image/png": "[encoded data removed]",
            "text/plain": [
              "<Figure size 432x288 with 1 Axes>"
            ]
          },
          "metadata": {
            "tags": []
          }
        }
      ]
    },
    {
      "cell_type": "code",
      "metadata": {
        "colab": {
          "base_uri": "https://localhost:8080/"
        },
        "id": "C5TVTy5B79kD",
        "outputId": "3afd32b8-7318-4d63-fac2-10e3139ef602"
      },
      "source": [
        "model_9.evaluate(test_data)"
      ],
      "execution_count": null,
      "outputs": [
        {
          "output_type": "stream",
          "text": [
            "256/256 [==============================] - 13s 50ms/step - loss: 2.1432 - accuracy: 0.7933 - auc_7: 0.9345\n"
          ],
          "name": "stdout"
        },
        {
          "output_type": "execute_result",
          "data": {
            "text/plain": [
              "[2.1431519985198975, 0.7933484315872192, 0.9344703555107117]"
            ]
          },
          "metadata": {
            "tags": []
          },
          "execution_count": 60
        }
      ]
    },
    {
      "cell_type": "markdown",
      "metadata": {
        "id": "ohMfBMyo9dIK"
      },
      "source": [
        "#### Боротьба з оверфітингом"
      ]
    },
    {
      "cell_type": "code",
      "metadata": {
        "id": "4QTHfQKL9csa"
      },
      "source": [
        "model_10 = tf.keras.Sequential([\n",
        "  layers.BatchNormalization (input_shape =(64 , 64 , 1)),\n",
        "  layers.Conv2D (32, (4 , 4) , padding ='same', activation =layers.LeakyReLU()),\n",
        "  layers.Conv2D (32 , (4 , 4) , padding ='same', activation =layers.LeakyReLU()),\n",
        "  layers.MaxPooling2D ( pool_size =(2 , 2)),\n",
        "  layers.Dropout(0.25),\n",
        "\n",
        "  layers.BatchNormalization (),\n",
        "  layers.Conv2D (64, (4 , 4) , padding ='same', activation =layers.LeakyReLU()),\n",
        "  layers.Conv2D (64 , (4 , 4) , padding ='same', activation =layers.LeakyReLU()),\n",
        "  layers.MaxPooling2D ( pool_size =(2 , 2)),\n",
        "  layers.Dropout(0.25),\n",
        "\n",
        "  layers.BatchNormalization (),\n",
        "  layers.Conv2D (64, (4 , 4) , padding ='same', activation =layers.LeakyReLU()),\n",
        "  layers.Conv2D (64 , (4 , 4) , padding ='same', activation =layers.LeakyReLU()),\n",
        "  layers.MaxPooling2D ( pool_size =(2 , 2)),\n",
        "  layers.Dropout(0.25),\n",
        "\n",
        "  layers.Flatten(),\n",
        "  layers.BatchNormalization (),\n",
        "  layers.Dense(4096, activation =layers.LeakyReLU()),\n",
        "  layers.Dropout(0.75),\n",
        "  layers.Dense(len(image_classes), activation ='softmax')\n",
        "])\n",
        "\n",
        "model_10.compile(\n",
        "  optimizer= tf.optimizers.Adamax(),  \n",
        "  loss=\"categorical_crossentropy\",\n",
        "  metrics=['accuracy', tf.keras.metrics.AUC()],)"
      ],
      "execution_count": null,
      "outputs": []
    },
    {
      "cell_type": "code",
      "metadata": {
        "colab": {
          "base_uri": "https://localhost:8080/"
        },
        "id": "Yoi9L04O-B4i",
        "outputId": "2f317bbe-c32a-4b80-e660-8033554b0817"
      },
      "source": [
        "with tf.device('/device:GPU:0'):\n",
        "  history_10 = model_10.fit(\n",
        "    train_data,\n",
        "    validation_data=valid_data,\n",
        "    epochs=24,\n",
        "    callbacks = [callback]\n",
        "  )"
      ],
      "execution_count": null,
      "outputs": [
        {
          "output_type": "stream",
          "text": [
            "Epoch 1/24\n",
            "1726/1726 [==============================] - 195s 112ms/step - loss: 5.0913 - accuracy: 0.3153 - auc_8: 0.7682 - val_loss: 1.6400 - val_accuracy: 0.7157 - val_auc_8: 0.9353\n",
            "Epoch 2/24\n",
            "1726/1726 [==============================] - 193s 112ms/step - loss: 2.1185 - accuracy: 0.6441 - auc_8: 0.9204 - val_loss: 1.0367 - val_accuracy: 0.8028 - val_auc_8: 0.9649\n",
            "Epoch 3/24\n",
            "1726/1726 [==============================] - 193s 112ms/step - loss: 1.4519 - accuracy: 0.7330 - auc_8: 0.9502 - val_loss: 0.7793 - val_accuracy: 0.8472 - val_auc_8: 0.9765\n",
            "Epoch 4/24\n",
            "1726/1726 [==============================] - 194s 112ms/step - loss: 1.0790 - accuracy: 0.7864 - auc_8: 0.9658 - val_loss: 0.6650 - val_accuracy: 0.8690 - val_auc_8: 0.9794\n",
            "Epoch 5/24\n",
            "1726/1726 [==============================] - 193s 112ms/step - loss: 0.8414 - accuracy: 0.8227 - auc_8: 0.9754 - val_loss: 0.5928 - val_accuracy: 0.8760 - val_auc_8: 0.9829\n",
            "Epoch 6/24\n",
            "1726/1726 [==============================] - 193s 112ms/step - loss: 0.6846 - accuracy: 0.8484 - auc_8: 0.9817 - val_loss: 0.5597 - val_accuracy: 0.8865 - val_auc_8: 0.9824\n",
            "Epoch 7/24\n",
            "1726/1726 [==============================] - 192s 111ms/step - loss: 0.5637 - accuracy: 0.8713 - auc_8: 0.9858 - val_loss: 0.5602 - val_accuracy: 0.8914 - val_auc_8: 0.9820\n",
            "Epoch 8/24\n",
            "1726/1726 [==============================] - 192s 111ms/step - loss: 0.4683 - accuracy: 0.8880 - auc_8: 0.9893 - val_loss: 0.5232 - val_accuracy: 0.8959 - val_auc_8: 0.9840\n",
            "Epoch 9/24\n",
            "1726/1726 [==============================] - 193s 112ms/step - loss: 0.4125 - accuracy: 0.8978 - auc_8: 0.9912 - val_loss: 0.5404 - val_accuracy: 0.8959 - val_auc_8: 0.9825\n",
            "Epoch 10/24\n",
            "1726/1726 [==============================] - 192s 111ms/step - loss: 0.3595 - accuracy: 0.9087 - auc_8: 0.9927 - val_loss: 0.5015 - val_accuracy: 0.8992 - val_auc_8: 0.9850\n",
            "Epoch 11/24\n",
            "1726/1726 [==============================] - 193s 112ms/step - loss: 0.3173 - accuracy: 0.9177 - auc_8: 0.9940 - val_loss: 0.5089 - val_accuracy: 0.9016 - val_auc_8: 0.9835\n",
            "Epoch 12/24\n",
            "1726/1726 [==============================] - 192s 111ms/step - loss: 0.2849 - accuracy: 0.9250 - auc_8: 0.9948 - val_loss: 0.5133 - val_accuracy: 0.9020 - val_auc_8: 0.9835\n",
            "Epoch 13/24\n",
            "1726/1726 [==============================] - 193s 112ms/step - loss: 0.2490 - accuracy: 0.9326 - auc_8: 0.9959 - val_loss: 0.4994 - val_accuracy: 0.9022 - val_auc_8: 0.9841\n",
            "Epoch 14/24\n",
            "1726/1726 [==============================] - 193s 112ms/step - loss: 0.2327 - accuracy: 0.9364 - auc_8: 0.9962 - val_loss: 0.5225 - val_accuracy: 0.9048 - val_auc_8: 0.9828\n",
            "Epoch 15/24\n",
            "1726/1726 [==============================] - 192s 111ms/step - loss: 0.2124 - accuracy: 0.9415 - auc_8: 0.9966 - val_loss: 0.5048 - val_accuracy: 0.9061 - val_auc_8: 0.9834\n",
            "Epoch 16/24\n",
            "1726/1726 [==============================] - 193s 112ms/step - loss: 0.1983 - accuracy: 0.9451 - auc_8: 0.9969 - val_loss: 0.4894 - val_accuracy: 0.9083 - val_auc_8: 0.9844\n",
            "Epoch 17/24\n",
            "1726/1726 [==============================] - 193s 112ms/step - loss: 0.1844 - accuracy: 0.9470 - auc_8: 0.9974 - val_loss: 0.5040 - val_accuracy: 0.9061 - val_auc_8: 0.9830\n",
            "Epoch 18/24\n",
            "1726/1726 [==============================] - 192s 111ms/step - loss: 0.1702 - accuracy: 0.9515 - auc_8: 0.9975 - val_loss: 0.5082 - val_accuracy: 0.9048 - val_auc_8: 0.9826\n",
            "Epoch 19/24\n",
            "1726/1726 [==============================] - 195s 113ms/step - loss: 0.1599 - accuracy: 0.9540 - auc_8: 0.9980 - val_loss: 0.5063 - val_accuracy: 0.9083 - val_auc_8: 0.9836\n"
          ],
          "name": "stdout"
        }
      ]
    },
    {
      "cell_type": "code",
      "metadata": {
        "colab": {
          "base_uri": "https://localhost:8080/",
          "height": 537
        },
        "id": "LF1N4DB4_b-Q",
        "outputId": "6a3040af-6a35-445d-dff4-6a7a94f62548"
      },
      "source": [
        "plot_res(history_10)"
      ],
      "execution_count": null,
      "outputs": [
        {
          "output_type": "display_data",
          "data": {
            "image/png": "[encoded data removed]",
            "text/plain": [
              "<Figure size 432x288 with 1 Axes>"
            ]
          },
          "metadata": {
            "tags": []
          }
        },
        {
          "output_type": "display_data",
          "data": {
            "image/png": "[encoded data removed]",
            "text/plain": [
              "<Figure size 432x288 with 1 Axes>"
            ]
          },
          "metadata": {
            "tags": []
          }
        }
      ]
    },
    {
      "cell_type": "code",
      "metadata": {
        "colab": {
          "base_uri": "https://localhost:8080/"
        },
        "id": "QI99d7DW_ekI",
        "outputId": "2a93eaa0-3c2a-431f-b750-6b877d2d3bb1"
      },
      "source": [
        "model_10.evaluate(test_data)"
      ],
      "execution_count": null,
      "outputs": [
        {
          "output_type": "stream",
          "text": [
            "256/256 [==============================] - 15s 58ms/step - loss: 2.0196 - accuracy: 0.8032 - auc_8: 0.9361\n"
          ],
          "name": "stdout"
        },
        {
          "output_type": "execute_result",
          "data": {
            "text/plain": [
              "[2.019634246826172, 0.8032094240188599, 0.9360683560371399]"
            ]
          },
          "metadata": {
            "tags": []
          },
          "execution_count": 66
        }
      ]
    },
    {
      "cell_type": "markdown",
      "metadata": {
        "id": "dzUxB3fSFqf7"
      },
      "source": [
        "#### Ще деякі модифікації"
      ]
    },
    {
      "cell_type": "code",
      "metadata": {
        "id": "NTyOHOISFu2o"
      },
      "source": [
        "model_11 = tf.keras.Sequential([\n",
        "  layers.BatchNormalization (input_shape =(64 , 64 , 1)),\n",
        "  layers.Conv2D (32, (4 , 4) , padding ='same', activation =layers.LeakyReLU()),\n",
        "  layers.Conv2D (32 , (4 , 4) , padding ='same', activation =layers.LeakyReLU()),\n",
        "  layers.MaxPooling2D ( pool_size =(4 , 4)),\n",
        "  layers.Dropout(0.25),\n",
        "\n",
        "  layers.BatchNormalization (),\n",
        "  layers.Conv2D (64, (4 , 4) , padding ='same', activation =layers.LeakyReLU()),\n",
        "  layers.Conv2D (64 , (4 , 4) , padding ='same', activation =layers.LeakyReLU()),\n",
        "  layers.MaxPooling2D ( pool_size =(4 , 4)),\n",
        "  layers.Dropout(0.25),\n",
        "\n",
        "  layers.BatchNormalization (),\n",
        "  layers.Conv2D (128, (4 , 4) , padding ='same', activation =layers.LeakyReLU()),\n",
        "  layers.Conv2D (128 , (4 , 4) , padding ='same', activation =layers.LeakyReLU()),\n",
        "  layers.MaxPooling2D ( pool_size =(2 , 2)),\n",
        "  layers.Dropout(0.25),\n",
        "  \n",
        "  layers.Conv2D (128, (4 , 4) , padding ='same', activation =layers.LeakyReLU()),\n",
        "  layers.MaxPooling2D ( pool_size =(2 , 2)),\n",
        "  layers.Dropout(0.25),\n",
        "\n",
        "  layers.Flatten(),\n",
        "  layers.BatchNormalization (),\n",
        "  layers.Dense(128, activation =layers.LeakyReLU()),\n",
        "  layers.Dropout(0.5),\n",
        "  layers.Dense(len(image_classes), activation ='softmax')\n",
        "])\n",
        "\n",
        "model_11.compile(\n",
        "  optimizer= tf.optimizers.Adamax(),  \n",
        "  loss=\"categorical_crossentropy\",\n",
        "  metrics=['accuracy', tf.keras.metrics.AUC()],)"
      ],
      "execution_count": null,
      "outputs": []
    },
    {
      "cell_type": "code",
      "metadata": {
        "id": "1Oh3B7N6Mg-I"
      },
      "source": [
        "with tf.device('/device:GPU:0'):\n",
        "  history_11 = model_11.fit(\n",
        "    train_data,\n",
        "    validation_data=valid_data,\n",
        "    epochs=24,\n",
        "    callbacks = [callback]\n",
        "  )"
      ],
      "execution_count": null,
      "outputs": []
    },
    {
      "cell_type": "code",
      "metadata": {
        "colab": {
          "base_uri": "https://localhost:8080/",
          "height": 537
        },
        "id": "ovegS_cSM1pO",
        "outputId": "7585bd18-275f-4df9-c123-06474ad4948a"
      },
      "source": [
        "plot_res(history_11)"
      ],
      "execution_count": null,
      "outputs": [
        {
          "output_type": "display_data",
          "data": {
            "image/png": "[encoded data removed]",
            "text/plain": [
              "<Figure size 432x288 with 1 Axes>"
            ]
          },
          "metadata": {
            "tags": []
          }
        },
        {
          "output_type": "display_data",
          "data": {
            "image/png": "[encoded data removed]",
            "text/plain": [
              "<Figure size 432x288 with 1 Axes>"
            ]
          },
          "metadata": {
            "tags": []
          }
        }
      ]
    },
    {
      "cell_type": "code",
      "metadata": {
        "colab": {
          "base_uri": "https://localhost:8080/"
        },
        "id": "vmN4reE_My9L",
        "outputId": "acbdbb3e-55a9-490d-9c35-673a6719f6c9"
      },
      "source": [
        "model_11.evaluate(test_data)"
      ],
      "execution_count": null,
      "outputs": [
        {
          "output_type": "stream",
          "text": [
            "256/256 [==============================] - 13s 52ms/step - loss: 2.1974 - accuracy: 0.7617 - auc_10: 0.9328\n"
          ],
          "name": "stdout"
        },
        {
          "output_type": "execute_result",
          "data": {
            "text/plain": [
              "[2.197392702102661, 0.7616831064224243, 0.9328147172927856]"
            ]
          },
          "metadata": {
            "tags": []
          },
          "execution_count": 73
        }
      ]
    },
    {
      "cell_type": "markdown",
      "metadata": {
        "id": "4Mpxc5eGcTKC"
      },
      "source": [
        "### Найкраща модель"
      ]
    },
    {
      "cell_type": "code",
      "metadata": {
        "id": "BVpbFJ4MfJ7n"
      },
      "source": [
        "import random"
      ],
      "execution_count": null,
      "outputs": []
    },
    {
      "cell_type": "code",
      "metadata": {
        "id": "OBJgr5mYdpT5"
      },
      "source": [
        "def predict_images():\n",
        "  sample_classes = random.sample(image_classes, 10)\n",
        "  print(sample_classes)\n",
        "  pred = []\n",
        "  for sample in sample_classes:\n",
        "    img_to_pred = random.sample(os.listdir(f\"/tmp/test/{sample}\"), 1)\n",
        "    img = load_img(f\"/tmp/test/{sample}/{img_to_pred[0]}\", target_size=(64, 64), color_mode=\"grayscale\") \n",
        "    x = img_to_array(img)\n",
        "    x = x.reshape((1,) + x.shape)\n",
        "    x /= 255  \n",
        "    pred_0 = model_10.predict(x)\n",
        "    pred.append(sorted(image_classes)[np.argmax(pred_0)])\n",
        "  print(pred)"
      ],
      "execution_count": null,
      "outputs": []
    },
    {
      "cell_type": "code",
      "metadata": {
        "colab": {
          "base_uri": "https://localhost:8080/"
        },
        "id": "O2SOV__0cqqT",
        "outputId": "a23da61d-7515-4dc3-c703-1349755662ce"
      },
      "source": [
        "predict_images()"
      ],
      "execution_count": null,
      "outputs": [
        {
          "output_type": "stream",
          "text": [
            "['U+96C4', 'U+95C7', 'U+9DC3', 'U+59D3', 'U+68E0', 'U+63EE', 'U+984B', 'U+5408', 'U+69B4', 'U+537F']\n",
            "['U+96C4', 'U+95A2', 'U+9D28', 'U+59D3', 'U+68E0', 'U+62BC', 'U+91CE', 'U+5408', 'U+676F', 'U+537F']\n"
          ],
          "name": "stdout"
        }
      ]
    },
    {
      "cell_type": "markdown",
      "metadata": {
        "id": "mvCLgx1mg7d2"
      },
      "source": [
        "### Зберігання найкращої моделі"
      ]
    },
    {
      "cell_type": "code",
      "metadata": {
        "id": "MYbHBdXHg_Eu"
      },
      "source": [
        "!pip install -q pyyaml h5py"
      ],
      "execution_count": null,
      "outputs": []
    },
    {
      "cell_type": "code",
      "metadata": {
        "colab": {
          "base_uri": "https://localhost:8080/"
        },
        "id": "O9Aepf6Ng21_",
        "outputId": "be2745c0-d962-4f97-d5c9-70bbebe59adf"
      },
      "source": [
        "!mkdir -p saved_model\n",
        "model_10.save('saved_model/my_model')"
      ],
      "execution_count": null,
      "outputs": [
        {
          "output_type": "stream",
          "text": [
            "WARNING:absl:Found untraced functions such as leaky_re_lu_52_layer_call_and_return_conditional_losses, leaky_re_lu_52_layer_call_fn, leaky_re_lu_53_layer_call_and_return_conditional_losses, leaky_re_lu_53_layer_call_fn, leaky_re_lu_54_layer_call_and_return_conditional_losses while saving (showing 5 of 35). These functions will not be directly callable after loading.\n",
            "WARNING:absl:Found untraced functions such as leaky_re_lu_52_layer_call_and_return_conditional_losses, leaky_re_lu_52_layer_call_fn, leaky_re_lu_53_layer_call_and_return_conditional_losses, leaky_re_lu_53_layer_call_fn, leaky_re_lu_54_layer_call_and_return_conditional_losses while saving (showing 5 of 35). These functions will not be directly callable after loading.\n"
          ],
          "name": "stderr"
        },
        {
          "output_type": "stream",
          "text": [
            "INFO:tensorflow:Assets written to: saved_model/my_model/assets\n"
          ],
          "name": "stdout"
        },
        {
          "output_type": "stream",
          "text": [
            "INFO:tensorflow:Assets written to: saved_model/my_model/assets\n"
          ],
          "name": "stderr"
        }
      ]
    },
    {
      "cell_type": "code",
      "metadata": {
        "colab": {
          "base_uri": "https://localhost:8080/"
        },
        "id": "GuPyEMSpjWHu",
        "outputId": "0cfcb072-2367-49ec-8786-3b25002bce30"
      },
      "source": [
        "!zip -r /content/file.zip /content/saved_model"
      ],
      "execution_count": null,
      "outputs": [
        {
          "output_type": "stream",
          "text": [
            "  adding: content/saved_model/ (stored 0%)\n",
            "  adding: content/saved_model/my_model/ (stored 0%)\n",
            "  adding: content/saved_model/my_model/variables/ (stored 0%)\n",
            "  adding: content/saved_model/my_model/variables/variables.data-00000-of-00001 (deflated 8%)\n",
            "  adding: content/saved_model/my_model/variables/variables.index (deflated 73%)\n",
            "  adding: content/saved_model/my_model/saved_model.pb (deflated 90%)\n",
            "  adding: content/saved_model/my_model/assets/ (stored 0%)\n"
          ],
          "name": "stdout"
        }
      ]
    },
    {
      "cell_type": "markdown",
      "metadata": {
        "id": "BFU1X3b555Zd"
      },
      "source": [
        "## Використання навченої моделі `Inception v3`"
      ]
    },
    {
      "cell_type": "markdown",
      "metadata": {
        "id": "bpkL15AZGg3-"
      },
      "source": [
        "### Завантаження даних"
      ]
    },
    {
      "cell_type": "code",
      "metadata": {
        "colab": {
          "base_uri": "https://localhost:8080/"
        },
        "id": "WH8qtswRIDFD",
        "outputId": "5bf05291-346e-4789-f996-1cf85406ad5e"
      },
      "source": [
        "!wget https://data.deepai.org/FGVCAircraft.zip "
      ],
      "execution_count": null,
      "outputs": [
        {
          "output_type": "stream",
          "text": [
            "--2021-05-29 08:16:39--  https://data.deepai.org/FGVCAircraft.zip\n",
            "Resolving data.deepai.org (data.deepai.org)... 138.201.36.183\n",
            "Connecting to data.deepai.org (data.deepai.org)|138.201.36.183|:443... connected.\n",
            "HTTP request sent, awaiting response... 200 OK\n",
            "Length: 2754361826 (2.6G) [application/zip]\n",
            "Saving to: ‘FGVCAircraft.zip.1’\n",
            "\n",
            "FGVCAircraft.zip.1  100%[===================>]   2.56G  32.7MB/s    in 82s     \n",
            "\n",
            "2021-05-29 08:18:02 (32.0 MB/s) - ‘FGVCAircraft.zip.1’ saved [2754361826/2754361826]\n",
            "\n"
          ],
          "name": "stdout"
        }
      ]
    },
    {
      "cell_type": "code",
      "metadata": {
        "id": "RmpVoN9jL8fk"
      },
      "source": [
        "import zipfile"
      ],
      "execution_count": null,
      "outputs": []
    },
    {
      "cell_type": "code",
      "metadata": {
        "id": "JtUmrFcL59yz"
      },
      "source": [
        "zip_source = \"/content/FGVCAircraft.zip.1\"\n",
        "zip_ref = zipfile.ZipFile(zip_source, 'r')\n",
        "zip_ref.extractall('/content')\n",
        "zip_ref.close()"
      ],
      "execution_count": null,
      "outputs": []
    },
    {
      "cell_type": "markdown",
      "metadata": {
        "id": "jnF9_DQzOO9Q"
      },
      "source": [
        "#### Створення sample"
      ]
    },
    {
      "cell_type": "code",
      "metadata": {
        "id": "d3r32-buPOMw"
      },
      "source": [
        "import re"
      ],
      "execution_count": null,
      "outputs": []
    },
    {
      "cell_type": "code",
      "metadata": {
        "id": "1sjl8Y_1Oli3"
      },
      "source": [
        "train_images, train_labels = [], []"
      ],
      "execution_count": null,
      "outputs": []
    },
    {
      "cell_type": "code",
      "metadata": {
        "id": "SH7TyEvmOOUQ"
      },
      "source": [
        "with open(\"/content/fgvc-aircraft-2013b/data/images_manufacturer_train.txt\", \"r\") as f:\n",
        "  for line in f.readlines():\n",
        "    temp_im, temp_lbl = re.match(r\"\\d+\", line).group(0), line[8:-1]\n",
        "    train_images.append(temp_im)\n",
        "    train_labels.append(temp_lbl)"
      ],
      "execution_count": null,
      "outputs": []
    },
    {
      "cell_type": "code",
      "metadata": {
        "id": "hNdUNryjRQlf"
      },
      "source": [
        "valid_images, valid_labels = [], []\n",
        "with open(\"/content/fgvc-aircraft-2013b/data/images_manufacturer_val.txt\", \"r\") as f:\n",
        "  for line in f.readlines():\n",
        "    temp_im, temp_lbl = re.match(r\"\\d+\", line).group(0), line[8:-1]\n",
        "    valid_images.append(temp_im)\n",
        "    valid_labels.append(temp_lbl)"
      ],
      "execution_count": null,
      "outputs": []
    },
    {
      "cell_type": "code",
      "metadata": {
        "id": "Bls0yMYkRj8X"
      },
      "source": [
        "test_images, test_labels = [], []\n",
        "with open(\"/content/fgvc-aircraft-2013b/data/images_manufacturer_test.txt\", \"r\") as f:\n",
        "  for line in f.readlines():\n",
        "    temp_im, temp_lbl = re.match(r\"\\d+\", line).group(0), line[8:-1]\n",
        "    test_images.append(temp_im)\n",
        "    test_labels.append(temp_lbl)"
      ],
      "execution_count": null,
      "outputs": []
    },
    {
      "cell_type": "code",
      "metadata": {
        "id": "tNzUk0ToRxF2"
      },
      "source": [
        "!mkdir /content/train_air\n",
        "!mkdir /content/valid_air\n",
        "!mkdir /content/test_air"
      ],
      "execution_count": null,
      "outputs": []
    },
    {
      "cell_type": "code",
      "metadata": {
        "id": "R73PK294SFQg"
      },
      "source": [
        "for label in set(train_labels):\n",
        "  os.mkdir(f\"/content/train_air/{label}\")"
      ],
      "execution_count": null,
      "outputs": []
    },
    {
      "cell_type": "code",
      "metadata": {
        "id": "hlo831ZTSal9"
      },
      "source": [
        "for label in set(valid_labels):\n",
        "  os.mkdir(f\"/content/valid_air/{label}\")"
      ],
      "execution_count": null,
      "outputs": []
    },
    {
      "cell_type": "code",
      "metadata": {
        "id": "1d1mqfU3SdbW"
      },
      "source": [
        "for label in set(test_labels):\n",
        "  os.mkdir(f\"/content/test_air/{label}\")"
      ],
      "execution_count": null,
      "outputs": []
    },
    {
      "cell_type": "code",
      "metadata": {
        "id": "8YizMeiFSg4F"
      },
      "source": [
        "for image, label in zip(train_images, train_labels):\n",
        "  shutil.copy(f\"/content/fgvc-aircraft-2013b/data/images/{image}.jpg\", f\"/content/train_air/{label}/{image}.jpg\")"
      ],
      "execution_count": null,
      "outputs": []
    },
    {
      "cell_type": "code",
      "metadata": {
        "id": "1mVCuWRxTTHn"
      },
      "source": [
        "for image, label in zip(test_images, test_labels):\n",
        "  shutil.copy(f\"/content/fgvc-aircraft-2013b/data/images/{image}.jpg\", f\"/content/test_air/{label}/{image}.jpg\")"
      ],
      "execution_count": null,
      "outputs": []
    },
    {
      "cell_type": "code",
      "metadata": {
        "id": "bknD9J36TXl1"
      },
      "source": [
        "for image, label in zip(valid_images, valid_labels):\n",
        "  shutil.copy(f\"/content/fgvc-aircraft-2013b/data/images/{image}.jpg\", f\"/content/valid_air/{label}/{image}.jpg\")"
      ],
      "execution_count": null,
      "outputs": []
    },
    {
      "cell_type": "markdown",
      "metadata": {
        "id": "E90tAqcIThJF"
      },
      "source": [
        "### Генерація даних для мережі"
      ]
    },
    {
      "cell_type": "code",
      "metadata": {
        "id": "ZK6stytKNeT6"
      },
      "source": [
        "datagen = tf.keras.preprocessing.image.ImageDataGenerator()"
      ],
      "execution_count": null,
      "outputs": []
    },
    {
      "cell_type": "code",
      "metadata": {
        "colab": {
          "base_uri": "https://localhost:8080/"
        },
        "id": "rP2X_YZ5TnC0",
        "outputId": "2b065ea9-2bd1-46cd-c5f5-c948106f2222"
      },
      "source": [
        "train_data, valid_data, test_data = generate_train_valid_test(\"/content\", 64, 299, \n",
        "                                                              \"_air\", \"rgb\")"
      ],
      "execution_count": null,
      "outputs": [
        {
          "output_type": "stream",
          "text": [
            "Found 3334 images belonging to 30 classes.\n",
            "Found 3333 images belonging to 30 classes.\n",
            "Found 3333 images belonging to 30 classes.\n"
          ],
          "name": "stdout"
        }
      ]
    },
    {
      "cell_type": "markdown",
      "metadata": {
        "id": "6_j_6FI6VOeU"
      },
      "source": [
        "### Перевірка моделі"
      ]
    },
    {
      "cell_type": "code",
      "metadata": {
        "id": "EBW9qKNFVens",
        "colab": {
          "base_uri": "https://localhost:8080/"
        },
        "outputId": "71cd021e-299c-4c39-dbea-9f74b4e18bde"
      },
      "source": [
        "InceptionV3 = tf.keras.applications.InceptionV3(include_top=True,weights=\"imagenet\", classifier_activation=\"softmax\")\n",
        "decode = tf.keras.applications.inception_v3.decode_predictions\n",
        "scaling = tf.keras.applications.inception_v3.preprocess_input\n",
        "\n",
        "image_preprocessor = Sequential([\n",
        "   layers.experimental.preprocessing.Resizing(299, 299),\n",
        "   layers.Activation(scaling)\n",
        "   ]\n",
        ")"
      ],
      "execution_count": null,
      "outputs": [
        {
          "output_type": "stream",
          "text": [
            "Downloading data from https://storage.googleapis.com/tensorflow/keras-applications/inception_v3/inception_v3_weights_tf_dim_ordering_tf_kernels.h5\n",
            "96116736/96112376 [==============================] - 1s 0us/step\n"
          ],
          "name": "stdout"
        }
      ]
    },
    {
      "cell_type": "code",
      "metadata": {
        "id": "INuMOsKJWm5r"
      },
      "source": [
        "inception_layers = InceptionV3.layers\n",
        "inception_layers.pop()\n",
        "for layer in inception_layers:\n",
        "    layer.trainable = False\n",
        "logit = Sequential([tf.keras.layers.Dense(len(set(test_labels)), activation='softmax')])(inception_layers[-1].output)\n",
        "model = tf.keras.Model(inputs=InceptionV3.inputs, outputs=logit)\n",
        "pipeline = Sequential([tf.keras.layers.Activation(scaling),model])\n",
        "#model.summary()"
      ],
      "execution_count": null,
      "outputs": []
    },
    {
      "cell_type": "code",
      "metadata": {
        "id": "I9VvEHeHYP8u"
      },
      "source": [
        "pipeline.compile(optimizer='Adam',  loss = \"categorical_crossentropy\", metrics = [\"accuracy\", tf.metrics.AUC()])"
      ],
      "execution_count": null,
      "outputs": []
    },
    {
      "cell_type": "code",
      "metadata": {
        "id": "1mCItwURMtQO"
      },
      "source": [
        "callback = tf.keras.callbacks.EarlyStopping(monitor='val_loss', patience=3)"
      ],
      "execution_count": null,
      "outputs": []
    },
    {
      "cell_type": "code",
      "metadata": {
        "colab": {
          "base_uri": "https://localhost:8080/"
        },
        "id": "VaY4dNX7dKCE",
        "outputId": "d0e768e6-6403-4cb4-ac6a-0b8cda66fd0d"
      },
      "source": [
        "with tf.device('/device:GPU:0'):\n",
        "  history = pipeline.fit(train_data, \n",
        "                         steps_per_epoch=len(train_data),\n",
        "                         validation_data=valid_data, \n",
        "                         validation_steps=len(valid_data),\n",
        "                         epochs=30, \n",
        "                         verbose=1,\n",
        "                         callbacks = [callback])"
      ],
      "execution_count": null,
      "outputs": [
        {
          "output_type": "stream",
          "text": [
            "Epoch 1/30\n",
            "53/53 [==============================] - 108s 2s/step - loss: 2.6361 - accuracy: 0.2358 - auc: 0.8257 - val_loss: 2.3681 - val_accuracy: 0.2793 - val_auc: 0.8761\n",
            "Epoch 2/30\n",
            "53/53 [==============================] - 100s 2s/step - loss: 2.2479 - accuracy: 0.3110 - auc: 0.8919 - val_loss: 2.1830 - val_accuracy: 0.3165 - val_auc: 0.9007\n",
            "Epoch 3/30\n",
            "53/53 [==============================] - 100s 2s/step - loss: 2.0574 - accuracy: 0.3644 - auc: 0.9168 - val_loss: 2.0791 - val_accuracy: 0.3597 - val_auc: 0.9097\n",
            "Epoch 4/30\n",
            "53/53 [==============================] - 100s 2s/step - loss: 1.9240 - accuracy: 0.3959 - auc: 0.9304 - val_loss: 1.9790 - val_accuracy: 0.3798 - val_auc: 0.9224\n",
            "Epoch 5/30\n",
            "53/53 [==============================] - 100s 2s/step - loss: 1.8232 - accuracy: 0.4247 - auc: 0.9409 - val_loss: 1.9198 - val_accuracy: 0.3933 - val_auc: 0.9267\n",
            "Epoch 6/30\n",
            "53/53 [==============================] - 100s 2s/step - loss: 1.7255 - accuracy: 0.4553 - auc: 0.9480 - val_loss: 1.8805 - val_accuracy: 0.4137 - val_auc: 0.9318\n",
            "Epoch 7/30\n",
            "53/53 [==============================] - 100s 2s/step - loss: 1.6582 - accuracy: 0.4808 - auc: 0.9534 - val_loss: 1.8318 - val_accuracy: 0.4188 - val_auc: 0.9355\n",
            "Epoch 8/30\n",
            "53/53 [==============================] - 100s 2s/step - loss: 1.5939 - accuracy: 0.5048 - auc: 0.9579 - val_loss: 1.8098 - val_accuracy: 0.4161 - val_auc: 0.9365\n",
            "Epoch 9/30\n",
            "53/53 [==============================] - 100s 2s/step - loss: 1.5337 - accuracy: 0.5225 - auc: 0.9616 - val_loss: 1.7730 - val_accuracy: 0.4509 - val_auc: 0.9388\n",
            "Epoch 10/30\n",
            "53/53 [==============================] - 100s 2s/step - loss: 1.4926 - accuracy: 0.5312 - auc: 0.9642 - val_loss: 1.7268 - val_accuracy: 0.4551 - val_auc: 0.9431\n",
            "Epoch 11/30\n",
            "53/53 [==============================] - 100s 2s/step - loss: 1.4281 - accuracy: 0.5609 - auc: 0.9685 - val_loss: 1.7008 - val_accuracy: 0.4614 - val_auc: 0.9446\n",
            "Epoch 12/30\n",
            "53/53 [==============================] - 100s 2s/step - loss: 1.3942 - accuracy: 0.5717 - auc: 0.9698 - val_loss: 1.6809 - val_accuracy: 0.4659 - val_auc: 0.9469\n",
            "Epoch 13/30\n",
            "53/53 [==============================] - 99s 2s/step - loss: 1.3514 - accuracy: 0.5906 - auc: 0.9719 - val_loss: 1.6502 - val_accuracy: 0.4827 - val_auc: 0.9484\n",
            "Epoch 14/30\n",
            "53/53 [==============================] - 99s 2s/step - loss: 1.3162 - accuracy: 0.6044 - auc: 0.9739 - val_loss: 1.6414 - val_accuracy: 0.4842 - val_auc: 0.9488\n",
            "Epoch 15/30\n",
            "53/53 [==============================] - 99s 2s/step - loss: 1.2865 - accuracy: 0.6149 - auc: 0.9754 - val_loss: 1.6286 - val_accuracy: 0.4713 - val_auc: 0.9492\n",
            "Epoch 16/30\n",
            "53/53 [==============================] - 99s 2s/step - loss: 1.2568 - accuracy: 0.6275 - auc: 0.9763 - val_loss: 1.6271 - val_accuracy: 0.4755 - val_auc: 0.9490\n",
            "Epoch 17/30\n",
            "53/53 [==============================] - 99s 2s/step - loss: 1.2180 - accuracy: 0.6329 - auc: 0.9785 - val_loss: 1.5889 - val_accuracy: 0.4869 - val_auc: 0.9518\n",
            "Epoch 18/30\n",
            "53/53 [==============================] - 99s 2s/step - loss: 1.1842 - accuracy: 0.6494 - auc: 0.9799 - val_loss: 1.6106 - val_accuracy: 0.4779 - val_auc: 0.9512\n",
            "Epoch 19/30\n",
            "53/53 [==============================] - 99s 2s/step - loss: 1.1729 - accuracy: 0.6431 - auc: 0.9801 - val_loss: 1.5784 - val_accuracy: 0.5011 - val_auc: 0.9508\n",
            "Epoch 20/30\n",
            "53/53 [==============================] - 100s 2s/step - loss: 1.1425 - accuracy: 0.6578 - auc: 0.9815 - val_loss: 1.5668 - val_accuracy: 0.4992 - val_auc: 0.9520\n",
            "Epoch 21/30\n",
            "53/53 [==============================] - 99s 2s/step - loss: 1.1119 - accuracy: 0.6728 - auc: 0.9826 - val_loss: 1.5673 - val_accuracy: 0.4956 - val_auc: 0.9513\n",
            "Epoch 22/30\n",
            "53/53 [==============================] - 100s 2s/step - loss: 1.0834 - accuracy: 0.6785 - auc: 0.9838 - val_loss: 1.5657 - val_accuracy: 0.4857 - val_auc: 0.9511\n",
            "Epoch 23/30\n",
            "53/53 [==============================] - 99s 2s/step - loss: 1.0680 - accuracy: 0.6932 - auc: 0.9841 - val_loss: 1.5253 - val_accuracy: 0.5125 - val_auc: 0.9547\n",
            "Epoch 24/30\n",
            "53/53 [==============================] - 100s 2s/step - loss: 1.0380 - accuracy: 0.7022 - auc: 0.9852 - val_loss: 1.5341 - val_accuracy: 0.5062 - val_auc: 0.9535\n",
            "Epoch 25/30\n",
            "53/53 [==============================] - 99s 2s/step - loss: 1.0289 - accuracy: 0.6971 - auc: 0.9855 - val_loss: 1.5126 - val_accuracy: 0.5188 - val_auc: 0.9555\n",
            "Epoch 26/30\n",
            "53/53 [==============================] - 99s 2s/step - loss: 1.0140 - accuracy: 0.7085 - auc: 0.9860 - val_loss: 1.4966 - val_accuracy: 0.5077 - val_auc: 0.9563\n",
            "Epoch 27/30\n",
            "53/53 [==============================] - 101s 2s/step - loss: 0.9919 - accuracy: 0.7175 - auc: 0.9866 - val_loss: 1.4991 - val_accuracy: 0.5209 - val_auc: 0.9562\n",
            "Epoch 28/30\n",
            "53/53 [==============================] - 100s 2s/step - loss: 0.9714 - accuracy: 0.7226 - auc: 0.9872 - val_loss: 1.4963 - val_accuracy: 0.5206 - val_auc: 0.9559\n",
            "Epoch 29/30\n",
            "53/53 [==============================] - 101s 2s/step - loss: 0.9470 - accuracy: 0.7280 - auc: 0.9882 - val_loss: 1.4952 - val_accuracy: 0.5200 - val_auc: 0.9559\n",
            "Epoch 30/30\n",
            "53/53 [==============================] - 99s 2s/step - loss: 0.9415 - accuracy: 0.7277 - auc: 0.9881 - val_loss: 1.4820 - val_accuracy: 0.5317 - val_auc: 0.9563\n"
          ],
          "name": "stdout"
        }
      ]
    },
    {
      "cell_type": "code",
      "metadata": {
        "colab": {
          "base_uri": "https://localhost:8080/",
          "height": 537
        },
        "id": "Wz6-0kAumtpN",
        "outputId": "f239730c-22e8-4671-a943-dd91086eecfc"
      },
      "source": [
        "plot_res(history)"
      ],
      "execution_count": null,
      "outputs": [
        {
          "output_type": "display_data",
          "data": {
            "image/png": "[encoded data removed]",
            "text/plain": [
              "<Figure size 432x288 with 1 Axes>"
            ]
          },
          "metadata": {
            "tags": []
          }
        },
        {
          "output_type": "display_data",
          "data": {
            "image/png": "[encoded data removed]",
            "text/plain": [
              "<Figure size 432x288 with 1 Axes>"
            ]
          },
          "metadata": {
            "tags": []
          }
        }
      ]
    }
  ]
}
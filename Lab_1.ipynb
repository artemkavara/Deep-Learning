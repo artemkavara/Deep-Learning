{
 "cells": [
  {
   "cell_type": "markdown",
   "id": "adopted-reduction",
   "metadata": {},
   "source": [
    "# Лабораторна робота 1\n",
    "## Виконав: Кавара Артем, КА-81"
   ]
  },
  {
   "cell_type": "markdown",
   "id": "returning-newark",
   "metadata": {},
   "source": [
    "### Бібліотеки:"
   ]
  },
  {
   "cell_type": "code",
   "execution_count": 1,
   "id": "closing-minimum",
   "metadata": {},
   "outputs": [],
   "source": [
    "import pandas as pd\n",
    "import numpy as np"
   ]
  },
  {
   "cell_type": "markdown",
   "id": "gentle-discharge",
   "metadata": {},
   "source": [
    "### Реалізація функції класифікатора \n",
    "Для роботи функції необхідно, щоб вхідні дані були у форматі np.array відповідних розмірностей."
   ]
  },
  {
   "cell_type": "code",
   "execution_count": 2,
   "id": "driving-asset",
   "metadata": {},
   "outputs": [],
   "source": [
    "def naive_bayes(T:np.array, y:np.array, x:np.array):\n",
    "    \n",
    "    #get unique classes and their frequencies\n",
    "    (y_unique, prob_y_abs) = np.unique(y, return_counts = True)\n",
    "    y_ser = pd.Series(y)\n",
    "    \n",
    "    #initialize classifier\n",
    "    x_class_prob = np.zeros(len(y_unique))\n",
    "    \n",
    "    for (j, cl) in enumerate(y_unique):\n",
    "        #get indeces of examples that belong to class cl\n",
    "        cl_index = y_ser[y_ser == cl].index\n",
    "        #calculate conditinal probabilities\n",
    "        count_feature = np.array(\n",
    "            [np.count_nonzero(T[cl_index][:,i] == x[i])/len(T[cl_index]) for i in range(len(x))])\n",
    "        #calculate classifier\n",
    "        x_class_prob[j] = np.prod(count_feature)*prob_y_abs[j]/len(T)\n",
    "    \n",
    "    return y_unique[np.argmax(x_class_prob)]"
   ]
  },
  {
   "cell_type": "markdown",
   "id": "automotive-pottery",
   "metadata": {},
   "source": [
    "### Демонстрація роботи програми\n",
    "Нехай у нас дано 2 ознаки, перша приймає значення з множини $\\{1, 2, 3\\}$, множина значень другої ознаки $\\{1, 2, 3, 4\\}$. Нехай також у нас дано 3 можливих класи: $S = \\{1, 2, 3\\}$.\n",
    "Нехай у нас дано масив $T$, у якому записано 7 прикладів та відповідний вектор $y$:\n",
    "$$T = \\begin{bmatrix} 2 & 3 \\\\ 2 & 4 \\\\ 1 & 4 \\\\ 1 & 2 \\\\ 2 & 1 \\\\ 3 & 4 \\\\ 3 & 2\\end{bmatrix}, y = \\begin{bmatrix} 1\\\\1\\\\2\\\\1\\\\3\\\\2\\\\3 \\end{bmatrix}$$\n",
    "Визначимо для нового прикладу $x = [2 \\text{ } 2]$ найбільш ймовірний клас.\n",
    "Спочатку підрахуємо безумовні ймовірності:\n",
    "\n",
    "| $S_i$ | $1$ | $2$ | $3$ |\n",
    "| --- | --- | --- | --- |\n",
    "| $p_i$ | $\\displaystyle \\frac{3}{7}$ | $\\displaystyle \\frac{2}{7}$ | $\\displaystyle \\frac{2}{7}$ |\n",
    "\n",
    "Тепер для кожної ознаки нового прикладу підрахуємо безумовні ймовірності:\n",
    "\n",
    "| $P\\{x_1 = 2 | S_i\\}$ | $1$ | $2$ | $3$ |\n",
    "| --- | --- | --- | --- |\n",
    "| $p_i$ | $\\displaystyle \\frac{2}{3}$ | $\\displaystyle 0$ | $\\displaystyle \\frac{1}{2}$ |\n",
    "\n",
    "| $P\\{x_2 = 2 | S_i\\}$ | $1$ | $2$ | $3$ |\n",
    "| --- | --- | --- | --- |\n",
    "| $p_i$ | $\\displaystyle \\frac{1}{3}$ | $\\displaystyle 0$ | $\\displaystyle \\frac{1}{2}$ |\n",
    "\n",
    "Таким чином,\n",
    "\n",
    "$$P\\{x \\in S_1\\} = \\frac{3}{7}\\cdot\\frac{2}{3}\\cdot\\frac{1}{3} = 0.0952$$\n",
    "$$P\\{x \\in S_2\\} = \\frac{2}{7}\\cdot 0\\cdot 0 = 0$$\n",
    "$$P\\{x \\in S_3\\} = \\frac{2}{7}\\cdot\\frac{1}{2}\\cdot\\frac{1}{2} = 0.0714$$\n",
    "Отже, очікуваний результат роботи функції: $x$ належить **першому класу**."
   ]
  },
  {
   "cell_type": "code",
   "execution_count": 3,
   "id": "approved-battle",
   "metadata": {},
   "outputs": [],
   "source": [
    "T = np.array([[2, 3], [2, 4], [1, 4], [1, 2], [2, 1], [3, 4], [3, 2]])\n",
    "y = np.array([1, 1, 2, 1, 3, 2, 3])\n",
    "x = np.array([2, 2])"
   ]
  },
  {
   "cell_type": "code",
   "execution_count": 4,
   "id": "current-electronics",
   "metadata": {},
   "outputs": [
    {
     "data": {
      "text/plain": [
       "1"
      ]
     },
     "execution_count": 4,
     "metadata": {},
     "output_type": "execute_result"
    }
   ],
   "source": [
    "naive_bayes(T, y, x)"
   ]
  }
 ],
 "metadata": {
  "kernelspec": {
   "display_name": "Python 3",
   "language": "python",
   "name": "python3"
  },
  "language_info": {
   "codemirror_mode": {
    "name": "ipython",
    "version": 3
   },
   "file_extension": ".py",
   "mimetype": "text/x-python",
   "name": "python",
   "nbconvert_exporter": "python",
   "pygments_lexer": "ipython3",
   "version": "3.9.1+"
  }
 },
 "nbformat": 4,
 "nbformat_minor": 5
}
